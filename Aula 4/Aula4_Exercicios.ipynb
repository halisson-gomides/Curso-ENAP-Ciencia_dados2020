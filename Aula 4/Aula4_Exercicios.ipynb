{
 "cells": [
  {
   "cell_type": "markdown",
   "metadata": {},
   "source": [
    "# Aula 4 - Exercícios - Agregação com Pandas e Conceitos de Estatística\n",
    "### Consulta a internet (Google, Stackoverflow e etc) liberada!!"
   ]
  },
  {
   "cell_type": "code",
   "execution_count": 1,
   "metadata": {},
   "outputs": [],
   "source": [
    "# Importe a biblioteca pandas\n",
    "import pandas as pd\n",
    "import numpy as np"
   ]
  },
  {
   "cell_type": "markdown",
   "metadata": {},
   "source": [
    "### 4.1 Escreva uma função para ler os dados de PIB e população dos datasets disponibilizados e retornar um dataframe com a agregação por Estados e as métricas soma, média e mediana do PIB de 2017 e da população de todos os Estados brasileiros.\n",
    "#### Você pode se basear na sua resolução dos exercícios da Aula 3.\n"
   ]
  },
  {
   "cell_type": "code",
   "execution_count": 2,
   "metadata": {
    "deletable": false,
    "nbgrader": {
     "cell_type": "code",
     "checksum": "09a1c3a73612084a3041c46b6120e674",
     "grade": false,
     "grade_id": "cell-c705ab9d11473b9f9",
     "locked": false,
     "schema_version": 3,
     "solution": true,
     "task": false
    }
   },
   "outputs": [],
   "source": [
    "# Dica: Baseie seu código na sua solução do exercício da aula 3 que faz o merge dos\n",
    "#       datasets do PIB e da população.\n",
    "\n",
    "def aggregate_pib_pop(path_pop, path_pib):\n",
    "    \"\"\"retorne um dataframe com a agregação por Estados e as métricas soma, média, mediana\n",
    "       e o desvio padrão do PIB de 2017 e da população de todos os Estados brasileiros.\n",
    "    \"\"\"\n",
    "    # YOUR CODE HERE\n",
    "    try:\n",
    "        df_pib = pd.read_excel(path_pib, skiprows=3, skipfooter=1, index_col=0, dtype={'Unnamed: 1': str})\n",
    "        df_pib.rename(columns={'Unnamed: 1' : 'cod_ibge7', 'Unnamed: 2' : 'municipio'}, inplace=True)        \n",
    "        \n",
    "        df_pop = pd.read_excel(path_pop, dtype={'cod_uf': str, 'cod_munic': str})\n",
    "        df_pop['cod_ibge7'] = df_pop['cod_uf'] + df_pop['cod_munic']\n",
    "        \n",
    "        df_merged = pd.merge(df_pop, df_pib, on='cod_ibge7')\n",
    "        return df_merged.groupby(df_merged['uf']).agg({'pop2017':['sum', 'mean', 'median', 'std'] , \\\n",
    "                                                       '2017': ['sum', 'mean', 'median', 'std']})\n",
    "    except ValueError as e:\n",
    "        \n",
    "        raise NotImplementedError(e)\n",
    "\n"
   ]
  },
  {
   "cell_type": "code",
   "execution_count": 3,
   "metadata": {},
   "outputs": [
    {
     "data": {
      "text/plain": [
       "{('pop2017', 'sum'): 829619.0,\n",
       " ('pop2017', 'mean'): 37709.954545454544,\n",
       " ('pop2017', 'median'): 17903.5,\n",
       " ('pop2017', 'std'): 79035.97564911412,\n",
       " ('2017', 'sum'): 14271061.0,\n",
       " ('2017', 'mean'): 648684.5909090909,\n",
       " ('2017', 'median'): 229775.0,\n",
       " ('2017', 'std'): 1695166.9475680576}"
      ]
     },
     "execution_count": 3,
     "metadata": {},
     "output_type": "execute_result"
    }
   ],
   "source": [
    "## Faça seus testes aqui\n",
    "path_pib = '../../curso_ciencia_dados2020/data/originais/pib/pib_municipios.xlsx'\n",
    "path_pop='../../curso_ciencia_dados2020/data/originais/populacao/estimativa_dou_2017.xlsx'\n",
    "\n",
    "aggregate_pib_pop(path_pop, path_pib).loc['AC'].to_dict()\n"
   ]
  },
  {
   "cell_type": "code",
   "execution_count": 4,
   "metadata": {
    "deletable": false,
    "editable": false,
    "nbgrader": {
     "cell_type": "code",
     "checksum": "4c678029d12d934c31b6bf5bd3257b09",
     "grade": true,
     "grade_id": "cell-9ffdsa88d58e9282a",
     "locked": true,
     "points": 1,
     "schema_version": 3,
     "solution": false,
     "task": false
    }
   },
   "outputs": [],
   "source": [
    "# Validação para nota\n",
    "path_pib = '../../curso_ciencia_dados2020/data/originais/pib/pib_municipios.xlsx'\n",
    "path_pop='../../curso_ciencia_dados2020/data/originais/populacao/estimativa_dou_2017.xlsx'\n",
    "test_data = {('pop2017', 'sum'): 829619.0,  ('pop2017', 'mean'): 37709.954545454544,\n",
    "             ('pop2017', 'median'): 17903.5, ('pop2017', 'std'): 79035.97564911412,\n",
    "             ('2017', 'sum'): 14271061.0, ('2017', 'mean'): 648684.5909090909,\n",
    "             ('2017', 'median'): 229775.0, ('2017', 'std'): 1695166.9475680576}\n",
    "\n",
    "assert aggregate_pib_pop(path_pop, path_pib).loc['AC'].to_dict() == test_data"
   ]
  },
  {
   "cell_type": "markdown",
   "metadata": {},
   "source": [
    "### 4.2 Escreva uma função para calcular os percentis [0.25, 0.50, 0.75, 0.9] do dataset do índice de gini dos municípios brasileiros para todos os anos presents no dataset.\n",
    "\n",
    "#### Apenas por curiosidade, plote o gráfico destes percentis num gráfico de linhas\n"
   ]
  },
  {
   "cell_type": "code",
   "execution_count": 5,
   "metadata": {
    "deletable": false,
    "nbgrader": {
     "cell_type": "code",
     "checksum": "c91073f400233eb468530da63a838ec2",
     "grade": false,
     "grade_id": "cell-553qe5248eb14bc30",
     "locked": false,
     "schema_version": 3,
     "solution": true,
     "task": false
    }
   },
   "outputs": [],
   "source": [
    "# Dica 1: Descubra qual a string representa valores NA neste dataset.\n",
    "# Dica 2: Use o argumento na_values para especificar a string que representa valores NA.\n",
    "# Dica 3: Use o argumento decimal=',' para definir a vírgula como separador de decimal.\n",
    "# Dica 4: Use a função apply e uma função lambda para desmembrar a coluna município no\n",
    "#         respectivo nome e código do município.\n",
    "# Dica 5: Atente para o separador de colunas do dataset.\n",
    "# Dica 6: O encoding do dataset do gini é 'utf8'.\n",
    "# Dica 7: Atente para quantas linhas você deve ignorar antes no inicio e no final do arquivo.\n",
    "\n",
    "def plot_gini(path_gini):\n",
    "    \"\"\"retorne o valor de: n+nn+nnn\n",
    "    \"\"\"\n",
    "    # YOUR CODE HERE\n",
    "    try:\n",
    "        df_gini = pd.read_csv(path_gini, sep=';', na_values='...', skiprows=2, skipfooter=1, \\\n",
    "                              decimal = ',', \\\n",
    "                              dtype={'1991': float, '2000': float, '2010': float}, engine='python')\n",
    "\n",
    "        df_gini['cod_ibge6'] = df_gini['Município'].apply( lambda x: x.split(' ')[0] )\n",
    "        return round(df_gini.quantile([.25, .5, .75, .9]), 3)\n",
    "        \n",
    "    except ValueError as e:\n",
    "        raise NotImplementedError(e)\n"
   ]
  },
  {
   "cell_type": "code",
   "execution_count": 6,
   "metadata": {},
   "outputs": [
    {
     "data": {
      "text/html": [
       "<div>\n",
       "<style scoped>\n",
       "    .dataframe tbody tr th:only-of-type {\n",
       "        vertical-align: middle;\n",
       "    }\n",
       "\n",
       "    .dataframe tbody tr th {\n",
       "        vertical-align: top;\n",
       "    }\n",
       "\n",
       "    .dataframe thead th {\n",
       "        text-align: right;\n",
       "    }\n",
       "</style>\n",
       "<table border=\"1\" class=\"dataframe\">\n",
       "  <thead>\n",
       "    <tr style=\"text-align: right;\">\n",
       "      <th></th>\n",
       "      <th>1991</th>\n",
       "      <th>2000</th>\n",
       "      <th>2010</th>\n",
       "    </tr>\n",
       "  </thead>\n",
       "  <tbody>\n",
       "    <tr>\n",
       "      <th>0.25</th>\n",
       "      <td>0.486</td>\n",
       "      <td>0.510</td>\n",
       "      <td>0.459</td>\n",
       "    </tr>\n",
       "    <tr>\n",
       "      <th>0.50</th>\n",
       "      <td>0.531</td>\n",
       "      <td>0.554</td>\n",
       "      <td>0.503</td>\n",
       "    </tr>\n",
       "    <tr>\n",
       "      <th>0.75</th>\n",
       "      <td>0.575</td>\n",
       "      <td>0.597</td>\n",
       "      <td>0.546</td>\n",
       "    </tr>\n",
       "    <tr>\n",
       "      <th>0.90</th>\n",
       "      <td>0.617</td>\n",
       "      <td>0.639</td>\n",
       "      <td>0.585</td>\n",
       "    </tr>\n",
       "  </tbody>\n",
       "</table>\n",
       "</div>"
      ],
      "text/plain": [
       "       1991   2000   2010\n",
       "0.25  0.486  0.510  0.459\n",
       "0.50  0.531  0.554  0.503\n",
       "0.75  0.575  0.597  0.546\n",
       "0.90  0.617  0.639  0.585"
      ]
     },
     "execution_count": 6,
     "metadata": {},
     "output_type": "execute_result"
    }
   ],
   "source": [
    "## Faça seus testes aqui\n",
    "# Considere o seguinte dataframe do PIB dos municípios\n",
    "path_gini = '../../curso_ciencia_dados2020/data/originais/gini/ginibr.csv'\n",
    "\n",
    "plot_gini(path_gini)"
   ]
  },
  {
   "cell_type": "code",
   "execution_count": 7,
   "metadata": {
    "deletable": false,
    "editable": false,
    "nbgrader": {
     "cell_type": "code",
     "checksum": "63f405eb3cb3af2acc6aa27f701bfdc0",
     "grade": true,
     "grade_id": "cell-0e2bh6cefe06bdc60",
     "locked": true,
     "points": 1,
     "schema_version": 3,
     "solution": false,
     "task": false
    }
   },
   "outputs": [
    {
     "ename": "AssertionError",
     "evalue": "",
     "output_type": "error",
     "traceback": [
      "\u001b[0;31m---------------------------------------------------------------------------\u001b[0m",
      "\u001b[0;31mAssertionError\u001b[0m                            Traceback (most recent call last)",
      "\u001b[0;32m<ipython-input-7-e392f80ddcd6>\u001b[0m in \u001b[0;36m<module>\u001b[0;34m\u001b[0m\n\u001b[1;32m      5\u001b[0m \u001b[0mpath_gini\u001b[0m \u001b[0;34m=\u001b[0m \u001b[0;34m'../../curso_ciencia_dados2020/data/originais/gini/ginibr.csv'\u001b[0m\u001b[0;34m\u001b[0m\u001b[0;34m\u001b[0m\u001b[0m\n\u001b[1;32m      6\u001b[0m \u001b[0;34m\u001b[0m\u001b[0m\n\u001b[0;32m----> 7\u001b[0;31m \u001b[0;32massert\u001b[0m \u001b[0mplot_gini\u001b[0m\u001b[0;34m(\u001b[0m\u001b[0mpath_gini\u001b[0m\u001b[0;34m)\u001b[0m\u001b[0;34m.\u001b[0m\u001b[0mto_dict\u001b[0m\u001b[0;34m(\u001b[0m\u001b[0;34m)\u001b[0m \u001b[0;34m==\u001b[0m \u001b[0mtest_data\u001b[0m\u001b[0;34m\u001b[0m\u001b[0;34m\u001b[0m\u001b[0m\n\u001b[0m",
      "\u001b[0;31mAssertionError\u001b[0m: "
     ]
    }
   ],
   "source": [
    "# Validação para nota\n",
    "test_data = {'1991': {0.25: 0.48625, 0.5: 0.5314, 0.75: 0.5751, 0.9: 0.617}, \n",
    "             '2000': {0.25: 0.5096, 0.5: 0.5535, 0.75: 0.59715, 0.9: 0.6387}, \n",
    "             '2010': {0.25: 0.4587, 0.5: 0.5025, 0.75: 0.5459, 0.9: 0.5848}}\n",
    "path_gini = '../../curso_ciencia_dados2020/data/originais/gini/ginibr.csv'\n",
    "\n",
    "assert plot_gini(path_gini).to_dict() == test_data"
   ]
  },
  {
   "cell_type": "code",
   "execution_count": 23,
   "metadata": {},
   "outputs": [
    {
     "data": {
      "text/plain": [
       "<AxesSubplot:xlabel='Ano', ylabel='percentil'>"
      ]
     },
     "execution_count": 23,
     "metadata": {},
     "output_type": "execute_result"
    },
    {
     "data": {
      "image/png": "[encoded data removed]",
      "text/plain": [
       "<Figure size 432x288 with 1 Axes>"
      ]
     },
     "metadata": {
      "needs_background": "light"
     },
     "output_type": "display_data"
    }
   ],
   "source": [
    "import seaborn as sea\n",
    "import matplotlib.pyplot as plt\n",
    "sns.set(style='white')\n",
    "%matplotlib inline\n",
    "\n",
    "df_melt = plot_gini(path_gini).melt(value_vars=['1991', '2000', '2010'], \\\n",
    "                                    var_name='Ano', value_name='percentil', ignore_index=False )\n",
    "sea.lineplot(x='Ano', y='percentil', data=df_melt, ci=None)"
   ]
  },
  {
   "cell_type": "markdown",
   "metadata": {},
   "source": [
    "### 4.3 Escreva uma função para retornar um dataframe com os nomes das colunas, o total e a porcentagem de valores NA num dataframe passado como argumento para esta função.\n"
   ]
  },
  {
   "cell_type": "code",
   "execution_count": 24,
   "metadata": {
    "deletable": false,
    "nbgrader": {
     "cell_type": "code",
     "checksum": "71c9c33bd03c383ee1b4822b5716a708",
     "grade": false,
     "grade_id": "cell-553e5248ebs14bc30",
     "locked": false,
     "schema_version": 3,
     "solution": true,
     "task": false
    }
   },
   "outputs": [],
   "source": [
    "# Dica: Use a função concat para concatenar duas séries. Especifique axis=1 para concatenar\n",
    "#       por colunas. Se quiser dar nome as colunas depois de concatenar, utilize o argumento\n",
    "#       keys=['Total','Porcentage']\n",
    "\n",
    "def missing_percentage(df):\n",
    "    \"\"\"Retorna um dataframe com os nomes das colunas, o total e a porcentagem de valores\n",
    "       NA no dataframe\n",
    "    \"\"\"\n",
    "    # YOUR CODE HERE\n",
    "    try:\n",
    "        \n",
    "        df_metricas = pd.DataFrame({'Total': df.isna().sum(),\\\n",
    "                                    'Porcentage': round( (df.isna().sum() / len(df.index))*100, 2) })\n",
    "        return df_metricas.sort_values(by='Total', ascending=False)\n",
    "        \n",
    "    except ValueError as e:\n",
    "        raise NotImplementedError(e)\n"
   ]
  },
  {
   "cell_type": "code",
   "execution_count": 25,
   "metadata": {},
   "outputs": [
    {
     "data": {
      "text/html": [
       "<div>\n",
       "<style scoped>\n",
       "    .dataframe tbody tr th:only-of-type {\n",
       "        vertical-align: middle;\n",
       "    }\n",
       "\n",
       "    .dataframe tbody tr th {\n",
       "        vertical-align: top;\n",
       "    }\n",
       "\n",
       "    .dataframe thead th {\n",
       "        text-align: right;\n",
       "    }\n",
       "</style>\n",
       "<table border=\"1\" class=\"dataframe\">\n",
       "  <thead>\n",
       "    <tr style=\"text-align: right;\">\n",
       "      <th></th>\n",
       "      <th>Total</th>\n",
       "      <th>Porcentage</th>\n",
       "    </tr>\n",
       "  </thead>\n",
       "  <tbody>\n",
       "    <tr>\n",
       "      <th>body</th>\n",
       "      <td>1188</td>\n",
       "      <td>90.76</td>\n",
       "    </tr>\n",
       "    <tr>\n",
       "      <th>cabin</th>\n",
       "      <td>1014</td>\n",
       "      <td>77.46</td>\n",
       "    </tr>\n",
       "    <tr>\n",
       "      <th>boat</th>\n",
       "      <td>823</td>\n",
       "      <td>62.87</td>\n",
       "    </tr>\n",
       "    <tr>\n",
       "      <th>home.dest</th>\n",
       "      <td>564</td>\n",
       "      <td>43.09</td>\n",
       "    </tr>\n",
       "    <tr>\n",
       "      <th>age</th>\n",
       "      <td>263</td>\n",
       "      <td>20.09</td>\n",
       "    </tr>\n",
       "    <tr>\n",
       "      <th>embarked</th>\n",
       "      <td>2</td>\n",
       "      <td>0.15</td>\n",
       "    </tr>\n",
       "    <tr>\n",
       "      <th>fare</th>\n",
       "      <td>1</td>\n",
       "      <td>0.08</td>\n",
       "    </tr>\n",
       "    <tr>\n",
       "      <th>pclass</th>\n",
       "      <td>0</td>\n",
       "      <td>0.00</td>\n",
       "    </tr>\n",
       "    <tr>\n",
       "      <th>survived</th>\n",
       "      <td>0</td>\n",
       "      <td>0.00</td>\n",
       "    </tr>\n",
       "    <tr>\n",
       "      <th>name</th>\n",
       "      <td>0</td>\n",
       "      <td>0.00</td>\n",
       "    </tr>\n",
       "    <tr>\n",
       "      <th>sex</th>\n",
       "      <td>0</td>\n",
       "      <td>0.00</td>\n",
       "    </tr>\n",
       "    <tr>\n",
       "      <th>sibsp</th>\n",
       "      <td>0</td>\n",
       "      <td>0.00</td>\n",
       "    </tr>\n",
       "    <tr>\n",
       "      <th>parch</th>\n",
       "      <td>0</td>\n",
       "      <td>0.00</td>\n",
       "    </tr>\n",
       "    <tr>\n",
       "      <th>ticket</th>\n",
       "      <td>0</td>\n",
       "      <td>0.00</td>\n",
       "    </tr>\n",
       "  </tbody>\n",
       "</table>\n",
       "</div>"
      ],
      "text/plain": [
       "           Total  Porcentage\n",
       "body        1188       90.76\n",
       "cabin       1014       77.46\n",
       "boat         823       62.87\n",
       "home.dest    564       43.09\n",
       "age          263       20.09\n",
       "embarked       2        0.15\n",
       "fare           1        0.08\n",
       "pclass         0        0.00\n",
       "survived       0        0.00\n",
       "name           0        0.00\n",
       "sex            0        0.00\n",
       "sibsp          0        0.00\n",
       "parch          0        0.00\n",
       "ticket         0        0.00"
      ]
     },
     "execution_count": 25,
     "metadata": {},
     "output_type": "execute_result"
    }
   ],
   "source": [
    "## Faça seus testes aqui\n",
    "path_titanic = '../../curso_ciencia_dados2020/data/originais/titanic/titanic.xls'\n",
    "df_titanic = pd.read_excel(path_titanic)\n",
    "missing_percentage(df_titanic)"
   ]
  },
  {
   "cell_type": "code",
   "execution_count": 26,
   "metadata": {
    "deletable": false,
    "editable": false,
    "nbgrader": {
     "cell_type": "code",
     "checksum": "6d20f168ce349e1dddb6b19c37140790",
     "grade": true,
     "grade_id": "cell-0e2bt6cefe06bdc60",
     "locked": true,
     "points": 1,
     "schema_version": 3,
     "solution": false,
     "task": false
    }
   },
   "outputs": [],
   "source": [
    "# Validação para nota\n",
    "path_titanic = '../../curso_ciencia_dados2020/data/originais/titanic/titanic.xls'\n",
    "test_data = {'Total': {'body': 1188,  'cabin': 1014,  'boat': 823,  'home.dest': 564,\n",
    "                       'age': 263,  'embarked': 2,  'fare': 1,  'ticket': 0,  'parch': 0,  \n",
    "                       'sibsp': 0,  'sex': 0,  'name': 0,  'survived': 0,  'pclass': 0},\n",
    "             'Porcentage': {'body': 90.76,  'cabin': 77.46,  'boat': 62.87,\n",
    "                            'home.dest': 43.09,  'age': 20.09,  'embarked': 0.15, \n",
    "                            'fare': 0.08,  'ticket': 0.0,  'parch': 0.0,  'sibsp': 0.0,\n",
    "                            'sex': 0.0,  'name': 0.0,  'survived': 0.0,  'pclass': 0.0}}\n",
    "\n",
    "df_titanic = pd.read_excel(path_titanic)\n",
    "assert missing_percentage(df_titanic).to_dict() == test_data"
   ]
  },
  {
   "cell_type": "markdown",
   "metadata": {},
   "source": [
    "### 4.4 Escreva uma função para agregar o dataset do Titanic por classe (pclass) e sexo (sex) e calcular a soma da coluna survived (sobrevivente) e a média e mediana da coluna fare (preço do ticket).\n"
   ]
  },
  {
   "cell_type": "code",
   "execution_count": 27,
   "metadata": {
    "deletable": false,
    "nbgrader": {
     "cell_type": "code",
     "checksum": "b1903157006030558df809e9eb713a7a",
     "grade": false,
     "grade_id": "cell-553em5248eb14bc30",
     "locked": false,
     "schema_version": 3,
     "solution": true,
     "task": false
    }
   },
   "outputs": [],
   "source": [
    "def agg_titanic(df_titanic):\n",
    "    \"\"\"retorne aagregação do dataframe df_titanic por pclass e sex e calcular a soma \n",
    "       da coluna survived e a média e mediana da coluna fare.\n",
    "    \"\"\"\n",
    "    # YOUR CODE HERE\n",
    "    try:\n",
    "        \n",
    "        return df_titanic.groupby(['pclass', 'sex']).agg({'survived': ['sum'],\\\n",
    "                                                        'fare': ['mean', 'median']})\n",
    "        \n",
    "    except ValueError as e:\n",
    "        raise NotImplementedError(e)\n"
   ]
  },
  {
   "cell_type": "code",
   "execution_count": 28,
   "metadata": {},
   "outputs": [
    {
     "data": {
      "text/html": [
       "<div>\n",
       "<style scoped>\n",
       "    .dataframe tbody tr th:only-of-type {\n",
       "        vertical-align: middle;\n",
       "    }\n",
       "\n",
       "    .dataframe tbody tr th {\n",
       "        vertical-align: top;\n",
       "    }\n",
       "\n",
       "    .dataframe thead tr th {\n",
       "        text-align: left;\n",
       "    }\n",
       "\n",
       "    .dataframe thead tr:last-of-type th {\n",
       "        text-align: right;\n",
       "    }\n",
       "</style>\n",
       "<table border=\"1\" class=\"dataframe\">\n",
       "  <thead>\n",
       "    <tr>\n",
       "      <th></th>\n",
       "      <th></th>\n",
       "      <th>survived</th>\n",
       "      <th colspan=\"2\" halign=\"left\">fare</th>\n",
       "    </tr>\n",
       "    <tr>\n",
       "      <th></th>\n",
       "      <th></th>\n",
       "      <th>sum</th>\n",
       "      <th>mean</th>\n",
       "      <th>median</th>\n",
       "    </tr>\n",
       "    <tr>\n",
       "      <th>pclass</th>\n",
       "      <th>sex</th>\n",
       "      <th></th>\n",
       "      <th></th>\n",
       "      <th></th>\n",
       "    </tr>\n",
       "  </thead>\n",
       "  <tbody>\n",
       "    <tr>\n",
       "      <th rowspan=\"2\" valign=\"top\">1</th>\n",
       "      <th>female</th>\n",
       "      <td>139</td>\n",
       "      <td>109.412385</td>\n",
       "      <td>80.92915</td>\n",
       "    </tr>\n",
       "    <tr>\n",
       "      <th>male</th>\n",
       "      <td>61</td>\n",
       "      <td>69.888385</td>\n",
       "      <td>49.50420</td>\n",
       "    </tr>\n",
       "    <tr>\n",
       "      <th rowspan=\"2\" valign=\"top\">2</th>\n",
       "      <th>female</th>\n",
       "      <td>94</td>\n",
       "      <td>23.234827</td>\n",
       "      <td>23.00000</td>\n",
       "    </tr>\n",
       "    <tr>\n",
       "      <th>male</th>\n",
       "      <td>25</td>\n",
       "      <td>19.904946</td>\n",
       "      <td>13.00000</td>\n",
       "    </tr>\n",
       "    <tr>\n",
       "      <th rowspan=\"2\" valign=\"top\">3</th>\n",
       "      <th>female</th>\n",
       "      <td>106</td>\n",
       "      <td>15.324250</td>\n",
       "      <td>10.48960</td>\n",
       "    </tr>\n",
       "    <tr>\n",
       "      <th>male</th>\n",
       "      <td>75</td>\n",
       "      <td>12.415462</td>\n",
       "      <td>7.89580</td>\n",
       "    </tr>\n",
       "  </tbody>\n",
       "</table>\n",
       "</div>"
      ],
      "text/plain": [
       "              survived        fare          \n",
       "                   sum        mean    median\n",
       "pclass sex                                  \n",
       "1      female      139  109.412385  80.92915\n",
       "       male         61   69.888385  49.50420\n",
       "2      female       94   23.234827  23.00000\n",
       "       male         25   19.904946  13.00000\n",
       "3      female      106   15.324250  10.48960\n",
       "       male         75   12.415462   7.89580"
      ]
     },
     "execution_count": 28,
     "metadata": {},
     "output_type": "execute_result"
    }
   ],
   "source": [
    "## Faça seus testes aqui\n",
    "path_titanic = '../../curso_ciencia_dados2020/data/originais/titanic/titanic.xls'\n",
    "\n",
    "df_titanic = pd.read_excel(path_titanic, skiprows=0, skipfooter=0)\n",
    "agg_titanic(df_titanic)"
   ]
  },
  {
   "cell_type": "code",
   "execution_count": 29,
   "metadata": {
    "deletable": false,
    "editable": false,
    "nbgrader": {
     "cell_type": "code",
     "checksum": "d034379e3d6cb08556a522e0cb92de03",
     "grade": true,
     "grade_id": "cell-0se2b6cefe06bdc60",
     "locked": true,
     "points": 1,
     "schema_version": 3,
     "solution": false,
     "task": false
    }
   },
   "outputs": [],
   "source": [
    "# Validação para nota\n",
    "path_titanic = '../../curso_ciencia_dados2020/data/originais/titanic/titanic.xls'\n",
    "test_data = {('survived', 'sum'): {(1, 'female'): 139,  (1, 'male'): 61,  (2, 'female'): 94,\n",
    "  (2, 'male'): 25,  (3, 'female'): 106,  (3, 'male'): 75}, ('fare', 'mean'): {(1, 'female'): 109.41238472222216,\n",
    "  (1, 'male'): 69.88838491620106,  (2, 'female'): 23.234827358490563,  (2, 'male'): 19.90494561403509,\n",
    "  (3, 'female'): 15.32424953703705,  (3, 'male'): 12.415461991869948}, ('fare', 'median'): {(1, 'female'): 80.92914999999999,\n",
    "  (1, 'male'): 49.5042,  (2, 'female'): 23.0,  (2, 'male'): 13.0,  (3, 'female'): 10.4896,\n",
    "  (3, 'male'): 7.8958}}\n",
    "\n",
    "df_titanic = pd.read_excel(path_titanic)\n",
    "assert agg_titanic(df_titanic).to_dict() == test_data"
   ]
  },
  {
   "cell_type": "markdown",
   "metadata": {},
   "source": [
    "### 4.5 Escreva uma função para fazer o merge do dataset de morbidade consolidado com o dataset de população\n",
    "#### O dataset da população deve ficar a esquerda e o dataset da morbidade a direita no resultado."
   ]
  },
  {
   "cell_type": "code",
   "execution_count": 30,
   "metadata": {
    "deletable": false,
    "nbgrader": {
     "cell_type": "code",
     "checksum": "14aa1aecd2691c4e2729adabd474311b",
     "grade": false,
     "grade_id": "cell-553a5248eb14bc30",
     "locked": false,
     "schema_version": 3,
     "solution": true,
     "task": false
    }
   },
   "outputs": [],
   "source": [
    "def merge_morbidade_pop(path_pop, path_morbidade):\n",
    "    \"\"\"retorne o merge dos datasets de população e morbidade.\n",
    "    \"\"\"\n",
    "    # YOUR CODE HERE\n",
    "    try:\n",
    "        df_pop = pd.read_excel(path_pop, index_col=0, dtype={'cod_uf': str, 'cod_munic': str})\n",
    "        df_pop['cod_ibge6'] = df_pop['cod_uf'] + df_pop['cod_munic'].apply(lambda row: row[:-1])\n",
    "\n",
    "        \n",
    "        df_morbidade = pd.read_csv(path_morbidade, sep=';', decimal=',', na_values='-', \\\n",
    "                                   dtype={'cod_ibge6': str})\n",
    "\n",
    "        return pd.merge(df_pop, df_morbidade, on='cod_ibge6')\n",
    "        \n",
    "    except ValueError as e:\n",
    "        \n",
    "        raise NotImplementedError(e)\n"
   ]
  },
  {
   "cell_type": "code",
   "execution_count": 32,
   "metadata": {},
   "outputs": [
    {
     "name": "stderr",
     "output_type": "stream",
     "text": [
      "/opt/conda/lib/python3.8/site-packages/IPython/core/interactiveshell.py:3263: DtypeWarning: Columns (11,13,15) have mixed types.Specify dtype option on import or set low_memory=False.\n",
      "  if (await self.run_code(code, result,  async_=asy)):\n"
     ]
    },
    {
     "data": {
      "text/plain": [
       "uf                                                RO\n",
       "cod_uf                                            11\n",
       "cod_munic                                      00015\n",
       "municipio                      Alta Floresta D'Oeste\n",
       "pop2017                                        25437\n",
       "cod_ibge6                                     110001\n",
       "Município                      Alta Floresta D'Oeste\n",
       "Internações                                      149\n",
       "AIH_aprovadas                                    149\n",
       "Valor_total                                   101282\n",
       "Valor_serviços_hospitalares                  77693.1\n",
       "Name: 0, dtype: object"
      ]
     },
     "execution_count": 32,
     "metadata": {},
     "output_type": "execute_result"
    }
   ],
   "source": [
    "## Faça seus testes aqui\n",
    "path_morbidade = '../../curso_ciencia_dados2020/data/originais/morbidade/consolidado/morbidade.csv'\n",
    "path_pop = '../../curso_ciencia_dados2020/data/originais/populacao/estimativa_dou_2017.xlsx'\n",
    "\n",
    "merge_morbidade_pop(path_pop, path_morbidade).iloc[0, 0:11]\n"
   ]
  },
  {
   "cell_type": "code",
   "execution_count": 33,
   "metadata": {
    "deletable": false,
    "editable": false,
    "nbgrader": {
     "cell_type": "code",
     "checksum": "50c1da52abb3db11035101a152e3a0bf",
     "grade": true,
     "grade_id": "cell-0sb2b6cefe06bdc60",
     "locked": true,
     "points": 1,
     "schema_version": 3,
     "solution": false,
     "task": false
    }
   },
   "outputs": [],
   "source": [
    "# Validação para nota\n",
    "path_morbidade = '../../curso_ciencia_dados2020/data/originais/morbidade/consolidado/morbidade.csv'\n",
    "path_pop = '../../curso_ciencia_dados2020/data/originais/populacao/estimativa_dou_2017.xlsx'\n",
    "test_data = {'uf': 'RO', 'cod_uf': '11', 'cod_munic': '00015', 'municipio': \"Alta Floresta D'Oeste\",\n",
    "             'pop2017': 25437, 'cod_ibge6': '110001', 'Município': \"Alta Floresta D'Oeste\",\n",
    "             'Internações': 149.0, 'AIH_aprovadas': 149, 'Valor_total': 101282.26,\n",
    "             'Valor_serviços_hospitalares': 77693.11}\n",
    "df_morbidade_pop = merge_morbidade_pop(path_pop, path_morbidade)\n",
    "assert df_morbidade_pop.iloc[0, 0:11].to_dict() == test_data\n"
   ]
  },
  {
   "cell_type": "markdown",
   "metadata": {},
   "source": [
    "### 4.6 Escreva uma função para realizar o agrupamento do dataset de morbidade por UF e por município aplicando a soma sobre as colunas Valor_total, Internações e Dias_permanência. Em seguida calcule, para todos os municípios nesta agregação, o custo médio diário das internações com a seguite fórmula: \n",
    "#### custo_medio_diario_intern = Valor_total/Dias_permanência"
   ]
  },
  {
   "cell_type": "code",
   "execution_count": 34,
   "metadata": {
    "deletable": false,
    "nbgrader": {
     "cell_type": "code",
     "checksum": "c3ae0d0f11aff7cd05c4bbb6fc1cf032",
     "grade": false,
     "grade_id": "cell-5b4dc5640fc839be",
     "locked": false,
     "schema_version": 3,
     "solution": true,
     "task": false
    }
   },
   "outputs": [],
   "source": [
    "def custo_medio_internacao_agregado(df_morbidade_pop):\n",
    "    \"\"\"retorne o merge dos datasets de população e morbidade.\n",
    "    \"\"\"\n",
    "    # YOUR CODE HERE\n",
    "    try:\n",
    "        df_agg = df_morbidade_pop.groupby(['uf', 'municipio']).agg({'Valor_total': 'sum', \\\n",
    "                                                           'Internações': 'sum', \\\n",
    "                                                          'Dias_permanência': 'sum'})\n",
    "        df_agg['custo_medio_diario_intern'] = df_agg['Valor_total'] / df_agg['Dias_permanência']\n",
    "        return df_agg\n",
    "    except ValueError as e:\n",
    "        \n",
    "        raise NotImplementedError(e)"
   ]
  },
  {
   "cell_type": "code",
   "execution_count": 35,
   "metadata": {},
   "outputs": [
    {
     "data": {
      "text/html": [
       "<div>\n",
       "<style scoped>\n",
       "    .dataframe tbody tr th:only-of-type {\n",
       "        vertical-align: middle;\n",
       "    }\n",
       "\n",
       "    .dataframe tbody tr th {\n",
       "        vertical-align: top;\n",
       "    }\n",
       "\n",
       "    .dataframe thead th {\n",
       "        text-align: right;\n",
       "    }\n",
       "</style>\n",
       "<table border=\"1\" class=\"dataframe\">\n",
       "  <thead>\n",
       "    <tr style=\"text-align: right;\">\n",
       "      <th></th>\n",
       "      <th></th>\n",
       "      <th>Valor_total</th>\n",
       "      <th>Internações</th>\n",
       "      <th>Dias_permanência</th>\n",
       "      <th>custo_medio_diario_intern</th>\n",
       "    </tr>\n",
       "    <tr>\n",
       "      <th>uf</th>\n",
       "      <th>municipio</th>\n",
       "      <th></th>\n",
       "      <th></th>\n",
       "      <th></th>\n",
       "      <th></th>\n",
       "    </tr>\n",
       "  </thead>\n",
       "  <tbody>\n",
       "    <tr>\n",
       "      <th rowspan=\"5\" valign=\"top\">AC</th>\n",
       "      <th>Acrelândia</th>\n",
       "      <td>200333.42</td>\n",
       "      <td>233.0</td>\n",
       "      <td>989.0</td>\n",
       "      <td>202.561598</td>\n",
       "    </tr>\n",
       "    <tr>\n",
       "      <th>Assis Brasil</th>\n",
       "      <td>146578.23</td>\n",
       "      <td>272.0</td>\n",
       "      <td>1023.0</td>\n",
       "      <td>143.282727</td>\n",
       "    </tr>\n",
       "    <tr>\n",
       "      <th>Brasiléia</th>\n",
       "      <td>585471.50</td>\n",
       "      <td>699.0</td>\n",
       "      <td>2803.0</td>\n",
       "      <td>208.873172</td>\n",
       "    </tr>\n",
       "    <tr>\n",
       "      <th>Bujari</th>\n",
       "      <td>124175.56</td>\n",
       "      <td>107.0</td>\n",
       "      <td>598.0</td>\n",
       "      <td>207.651438</td>\n",
       "    </tr>\n",
       "    <tr>\n",
       "      <th>Capixaba</th>\n",
       "      <td>106787.38</td>\n",
       "      <td>150.0</td>\n",
       "      <td>611.0</td>\n",
       "      <td>174.774763</td>\n",
       "    </tr>\n",
       "    <tr>\n",
       "      <th>...</th>\n",
       "      <th>...</th>\n",
       "      <td>...</td>\n",
       "      <td>...</td>\n",
       "      <td>...</td>\n",
       "      <td>...</td>\n",
       "    </tr>\n",
       "    <tr>\n",
       "      <th rowspan=\"5\" valign=\"top\">TO</th>\n",
       "      <th>Tocantínia</th>\n",
       "      <td>275693.72</td>\n",
       "      <td>342.0</td>\n",
       "      <td>1338.0</td>\n",
       "      <td>206.049118</td>\n",
       "    </tr>\n",
       "    <tr>\n",
       "      <th>Tupirama</th>\n",
       "      <td>38785.90</td>\n",
       "      <td>50.0</td>\n",
       "      <td>182.0</td>\n",
       "      <td>213.109341</td>\n",
       "    </tr>\n",
       "    <tr>\n",
       "      <th>Tupiratins</th>\n",
       "      <td>53131.70</td>\n",
       "      <td>49.0</td>\n",
       "      <td>189.0</td>\n",
       "      <td>281.120106</td>\n",
       "    </tr>\n",
       "    <tr>\n",
       "      <th>Wanderlândia</th>\n",
       "      <td>200151.81</td>\n",
       "      <td>188.0</td>\n",
       "      <td>1194.0</td>\n",
       "      <td>167.631332</td>\n",
       "    </tr>\n",
       "    <tr>\n",
       "      <th>Xambioá</th>\n",
       "      <td>445989.87</td>\n",
       "      <td>577.0</td>\n",
       "      <td>2661.0</td>\n",
       "      <td>167.602356</td>\n",
       "    </tr>\n",
       "  </tbody>\n",
       "</table>\n",
       "<p>5570 rows × 4 columns</p>\n",
       "</div>"
      ],
      "text/plain": [
       "                 Valor_total  Internações  Dias_permanência  \\\n",
       "uf municipio                                                  \n",
       "AC Acrelândia      200333.42        233.0             989.0   \n",
       "   Assis Brasil    146578.23        272.0            1023.0   \n",
       "   Brasiléia       585471.50        699.0            2803.0   \n",
       "   Bujari          124175.56        107.0             598.0   \n",
       "   Capixaba        106787.38        150.0             611.0   \n",
       "...                      ...          ...               ...   \n",
       "TO Tocantínia      275693.72        342.0            1338.0   \n",
       "   Tupirama         38785.90         50.0             182.0   \n",
       "   Tupiratins       53131.70         49.0             189.0   \n",
       "   Wanderlândia    200151.81        188.0            1194.0   \n",
       "   Xambioá         445989.87        577.0            2661.0   \n",
       "\n",
       "                 custo_medio_diario_intern  \n",
       "uf municipio                                \n",
       "AC Acrelândia                   202.561598  \n",
       "   Assis Brasil                 143.282727  \n",
       "   Brasiléia                    208.873172  \n",
       "   Bujari                       207.651438  \n",
       "   Capixaba                     174.774763  \n",
       "...                                    ...  \n",
       "TO Tocantínia                   206.049118  \n",
       "   Tupirama                     213.109341  \n",
       "   Tupiratins                   281.120106  \n",
       "   Wanderlândia                 167.631332  \n",
       "   Xambioá                      167.602356  \n",
       "\n",
       "[5570 rows x 4 columns]"
      ]
     },
     "execution_count": 35,
     "metadata": {},
     "output_type": "execute_result"
    }
   ],
   "source": [
    "# Faça seus testes aqui\n",
    "custo_medio_internacao_agregado(df_morbidade_pop)"
   ]
  },
  {
   "cell_type": "code",
   "execution_count": 36,
   "metadata": {
    "deletable": false,
    "editable": false,
    "nbgrader": {
     "cell_type": "code",
     "checksum": "d45d871b3d20bc6b336feaf59504413d",
     "grade": true,
     "grade_id": "cell-eee2219340bc517c",
     "locked": true,
     "points": 1,
     "schema_version": 3,
     "solution": false,
     "task": false
    }
   },
   "outputs": [],
   "source": [
    "# Validação para nota\n",
    "test_data = {'Valor_total': 200333.41999999998, 'Internações': 233.0, 'Dias_permanência': 989.0,\n",
    "             'custo_medio_diario_intern': 202.56159757330636}\n",
    "assert custo_medio_internacao_agregado(df_morbidade_pop).iloc[0].to_dict() == test_data"
   ]
  },
  {
   "cell_type": "markdown",
   "metadata": {},
   "source": [
    "### 4.7 Escreva uma função para retornar um dataframe cujos valores de uma dada coluna sejam maiores do que um valor passado como argumento (threshold).\n",
    "#### Para a validação, utilize o threshold=800. Por curiosidade, plote um boxplot dos dados de custo médio de internação agregados."
   ]
  },
  {
   "cell_type": "code",
   "execution_count": 37,
   "metadata": {
    "deletable": false,
    "nbgrader": {
     "cell_type": "code",
     "checksum": "68ba21234b6ea4779e9b643d5fd0796e",
     "grade": false,
     "grade_id": "cell-919c16309d90227d",
     "locked": false,
     "schema_version": 3,
     "solution": true,
     "task": false
    }
   },
   "outputs": [],
   "source": [
    "def get_outliers_morbidade(df_internacoes, col, threshold):\n",
    "    \"\"\"retorne um dataframe cujos valores da coluna col sejam maiores que threshold.\n",
    "    \"\"\"\n",
    "    # YOUR CODE HERE\n",
    "    try:\n",
    "        return df_internacoes[df_internacoes[col] > threshold]\n",
    "    except ValueError as e:\n",
    "        raise NotImplementedError(e)"
   ]
  },
  {
   "cell_type": "code",
   "execution_count": 38,
   "metadata": {},
   "outputs": [
    {
     "data": {
      "text/html": [
       "<div>\n",
       "<style scoped>\n",
       "    .dataframe tbody tr th:only-of-type {\n",
       "        vertical-align: middle;\n",
       "    }\n",
       "\n",
       "    .dataframe tbody tr th {\n",
       "        vertical-align: top;\n",
       "    }\n",
       "\n",
       "    .dataframe thead th {\n",
       "        text-align: right;\n",
       "    }\n",
       "</style>\n",
       "<table border=\"1\" class=\"dataframe\">\n",
       "  <thead>\n",
       "    <tr style=\"text-align: right;\">\n",
       "      <th></th>\n",
       "      <th></th>\n",
       "      <th>Valor_total</th>\n",
       "      <th>Internações</th>\n",
       "      <th>Dias_permanência</th>\n",
       "      <th>custo_medio_diario_intern</th>\n",
       "    </tr>\n",
       "    <tr>\n",
       "      <th>uf</th>\n",
       "      <th>municipio</th>\n",
       "      <th></th>\n",
       "      <th></th>\n",
       "      <th></th>\n",
       "      <th></th>\n",
       "    </tr>\n",
       "  </thead>\n",
       "  <tbody>\n",
       "    <tr>\n",
       "      <th>MT</th>\n",
       "      <th>Nova Brasilândia</th>\n",
       "      <td>125334.12</td>\n",
       "      <td>41.0</td>\n",
       "      <td>113.0</td>\n",
       "      <td>1109.151504</td>\n",
       "    </tr>\n",
       "    <tr>\n",
       "      <th>PR</th>\n",
       "      <th>Campina Grande do Sul</th>\n",
       "      <td>14980883.47</td>\n",
       "      <td>2862.0</td>\n",
       "      <td>12045.0</td>\n",
       "      <td>1243.742920</td>\n",
       "    </tr>\n",
       "    <tr>\n",
       "      <th>SP</th>\n",
       "      <th>Pedranópolis</th>\n",
       "      <td>481705.94</td>\n",
       "      <td>95.0</td>\n",
       "      <td>488.0</td>\n",
       "      <td>987.102336</td>\n",
       "    </tr>\n",
       "  </tbody>\n",
       "</table>\n",
       "</div>"
      ],
      "text/plain": [
       "                          Valor_total  Internações  Dias_permanência  \\\n",
       "uf municipio                                                           \n",
       "MT Nova Brasilândia         125334.12         41.0             113.0   \n",
       "PR Campina Grande do Sul  14980883.47       2862.0           12045.0   \n",
       "SP Pedranópolis             481705.94         95.0             488.0   \n",
       "\n",
       "                          custo_medio_diario_intern  \n",
       "uf municipio                                         \n",
       "MT Nova Brasilândia                     1109.151504  \n",
       "PR Campina Grande do Sul                1243.742920  \n",
       "SP Pedranópolis                          987.102336  "
      ]
     },
     "execution_count": 38,
     "metadata": {},
     "output_type": "execute_result"
    }
   ],
   "source": [
    "# Faça seus testes aqui\n",
    "df_internacoes = custo_medio_internacao_agregado(df_morbidade_pop)\n",
    "get_outliers_morbidade(df_internacoes, 'custo_medio_diario_intern', 800)\n"
   ]
  },
  {
   "cell_type": "code",
   "execution_count": 39,
   "metadata": {
    "deletable": false,
    "editable": false,
    "nbgrader": {
     "cell_type": "code",
     "checksum": "dfc0bcdf34091161f82c7f0c37fc209c",
     "grade": true,
     "grade_id": "cell-b656ffe7cf513a14",
     "locked": true,
     "points": 1,
     "schema_version": 3,
     "solution": false,
     "task": false
    }
   },
   "outputs": [
    {
     "name": "stderr",
     "output_type": "stream",
     "text": [
      "/opt/conda/lib/python3.8/site-packages/IPython/core/interactiveshell.py:3263: DtypeWarning: Columns (11,13,15) have mixed types.Specify dtype option on import or set low_memory=False.\n",
      "  if (await self.run_code(code, result,  async_=asy)):\n"
     ]
    }
   ],
   "source": [
    "# Validação para nota\n",
    "path_morbidade = '../../curso_ciencia_dados2020/data/originais/morbidade/consolidado/morbidade.csv'\n",
    "path_pop = '../../curso_ciencia_dados2020/data/originais/populacao/estimativa_dou_2017.xlsx'\n",
    "col='custo_medio_diario_intern'\n",
    "threshold=800\n",
    "test_data = {'Valor_total': 125334.12, 'Internações': 41.0, 'Dias_permanência': 113.0,\n",
    "             'custo_medio_diario_intern': 1109.1515044247788}\n",
    "\n",
    "df_morbidade_pop = merge_morbidade_pop(path_pop, path_morbidade)\n",
    "df_internacoes = custo_medio_internacao_agregado(df_morbidade_pop)\n",
    "\n",
    "assert get_outliers_morbidade(df_internacoes, col, threshold).iloc[0].to_dict() == test_data"
   ]
  },
  {
   "cell_type": "code",
   "execution_count": null,
   "metadata": {},
   "outputs": [],
   "source": []
  }
 ],
 "metadata": {
  "kernelspec": {
   "display_name": "Python 3",
   "language": "python",
   "name": "python3"
  },
  "language_info": {
   "codemirror_mode": {
    "name": "ipython",
    "version": 3
   },
   "file_extension": ".py",
   "mimetype": "text/x-python",
   "name": "python",
   "nbconvert_exporter": "python",
   "pygments_lexer": "ipython3",
   "version": "3.7.6"
  }
 },
 "nbformat": 4,
 "nbformat_minor": 4
}
