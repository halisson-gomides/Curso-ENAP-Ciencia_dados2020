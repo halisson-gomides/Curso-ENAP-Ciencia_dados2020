{
 "cells": [
  {
   "cell_type": "markdown",
   "metadata": {},
   "source": [
    "# Aula 6 - Exercícios - Storytelling\n",
    "### Consulta a internet (Google, Stackoverflow e etc) liberada!!"
   ]
  },
  {
   "cell_type": "code",
   "execution_count": 2,
   "metadata": {},
   "outputs": [],
   "source": [
    "# Importe a biblioteca pandas\n",
    "import pandas as pd\n",
    "import numpy as np\n",
    "import matplotlib.pyplot as plt # Biblioteca para plotar gráficos\n",
    "import seaborn as sns # Biblioteca para plotar gráficos baseada no matplotlib\n",
    "import re"
   ]
  },
  {
   "cell_type": "markdown",
   "metadata": {},
   "source": [
    "### 6.1 Escreva uma função para encontrar numa string todos os grupos de letras em que uma letra a é seguida de 3 letras b. \n"
   ]
  },
  {
   "cell_type": "code",
   "execution_count": 3,
   "metadata": {
    "deletable": false,
    "nbgrader": {
     "cell_type": "code",
     "checksum": "a4340e9d0c83d12da0144d9d9151acc6",
     "grade": false,
     "grade_id": "cell-c705ab9d11473b9f9",
     "locked": false,
     "schema_version": 3,
     "solution": true,
     "task": false
    }
   },
   "outputs": [],
   "source": [
    "def a3b(s):\n",
    "    \"\"\"retorne o valor de: n+nn+nnn\n",
    "    \"\"\"\n",
    "    # YOUR CODE HERE\n",
    "    try:\n",
    "        return re.findall(\"(abbb)\", s)\n",
    "    except ValueError as e:\n",
    "        raise NotImplementedError(e)\n"
   ]
  },
  {
   "cell_type": "code",
   "execution_count": 6,
   "metadata": {},
   "outputs": [
    {
     "data": {
      "text/plain": [
       "['abbb', 'abbb', 'abbb', 'abbb']"
      ]
     },
     "execution_count": 6,
     "metadata": {},
     "output_type": "execute_result"
    }
   ],
   "source": [
    "## Faça seus testes aqui\n",
    "strtest = 'abbabbbb asabbbde ababbaaabbbabbabbbb'\n",
    "a3b(strtest)"
   ]
  },
  {
   "cell_type": "code",
   "execution_count": 7,
   "metadata": {
    "deletable": false,
    "editable": false,
    "nbgrader": {
     "cell_type": "code",
     "checksum": "12c59a358b2c987a9d153eacc26f54e1",
     "grade": true,
     "grade_id": "cell-9ffdsa88d58e9282a",
     "locked": true,
     "points": 1,
     "schema_version": 3,
     "solution": false,
     "task": false
    }
   },
   "outputs": [],
   "source": [
    "# Validação para nota\n",
    "assert a3b('abbb asde ababbaaabbbabbb') == ['abbb', 'abbb', 'abbb']"
   ]
  },
  {
   "cell_type": "markdown",
   "metadata": {},
   "source": [
    "### 6.2 Escreva uma função para retornar os números presentes ao final de uma string. \n",
    "#### Retorne uma lista vazia se os ultimos caracteres não forem uma string.\n"
   ]
  },
  {
   "cell_type": "code",
   "execution_count": 66,
   "metadata": {
    "deletable": false,
    "nbgrader": {
     "cell_type": "code",
     "checksum": "55e0fdcc7c60462e38cd85d95078b07b",
     "grade": false,
     "grade_id": "cell-553qe5248eb14bc30",
     "locked": false,
     "schema_version": 3,
     "solution": true,
     "task": false
    }
   },
   "outputs": [],
   "source": [
    "def get_final_numbers(s):\n",
    "    \"\"\"retorne True ou False dependendo se a string s contém o\n",
    "       padrão especificado no enunciado.\n",
    "    \"\"\"\n",
    "    # YOUR CODE HERE\n",
    "    try:\n",
    "        return [x for x in re.findall(\"\\d*$\", s) if x != '']\n",
    "        \n",
    "    except ValueError as e:\n",
    "        raise NotImplementedError(e)\n"
   ]
  },
  {
   "cell_type": "code",
   "execution_count": 68,
   "metadata": {},
   "outputs": [
    {
     "data": {
      "text/plain": [
       "[]"
      ]
     },
     "execution_count": 68,
     "metadata": {},
     "output_type": "execute_result"
    }
   ],
   "source": [
    "## Faça seus testes aqui\n",
    "strtest = '33a3079a'\n",
    "get_final_numbers(strtest)"
   ]
  },
  {
   "cell_type": "code",
   "execution_count": 69,
   "metadata": {
    "deletable": false,
    "editable": false,
    "nbgrader": {
     "cell_type": "code",
     "checksum": "c4350305aac0e38afc2fe80904f8bf9c",
     "grade": true,
     "grade_id": "cell-0e2bh6cefe06bdc60",
     "locked": true,
     "points": 1,
     "schema_version": 3,
     "solution": false,
     "task": false
    }
   },
   "outputs": [],
   "source": [
    "# Validação para nota\n",
    "assert get_final_numbers('33a307a') == []\n",
    "assert get_final_numbers('33a307') == ['307']"
   ]
  },
  {
   "cell_type": "markdown",
   "metadata": {},
   "source": [
    "### 6.3 Analise o dataset de curetagem e argumente baseado em dados se o dado da quantidade de procedimentos de curetagem é periódico ou não.\n",
    "#### Se for periódico, encontre qual o período médio do pico. Elenque possíveis causas desta periodicidade.\n",
    "#### Faça suas análises em até 4 células\n"
   ]
  },
  {
   "cell_type": "code",
   "execution_count": 73,
   "metadata": {
    "deletable": false,
    "nbgrader": {
     "cell_type": "code",
     "checksum": "7ba8aacfec4e61df28985b7c853a7385",
     "grade": true,
     "grade_id": "cell-553e5248ebs14bc30",
     "locked": false,
     "points": 3,
     "schema_version": 3,
     "solution": true,
     "task": false
    }
   },
   "outputs": [
    {
     "data": {
      "text/html": [
       "<div>\n",
       "<style scoped>\n",
       "    .dataframe tbody tr th:only-of-type {\n",
       "        vertical-align: middle;\n",
       "    }\n",
       "\n",
       "    .dataframe tbody tr th {\n",
       "        vertical-align: top;\n",
       "    }\n",
       "\n",
       "    .dataframe thead th {\n",
       "        text-align: right;\n",
       "    }\n",
       "</style>\n",
       "<table border=\"1\" class=\"dataframe\">\n",
       "  <thead>\n",
       "    <tr style=\"text-align: right;\">\n",
       "      <th></th>\n",
       "      <th>uf</th>\n",
       "      <th>2008/Jan</th>\n",
       "      <th>2008/Fev</th>\n",
       "      <th>2008/Mar</th>\n",
       "      <th>2008/Abr</th>\n",
       "      <th>2008/Mai</th>\n",
       "      <th>2008/Jun</th>\n",
       "      <th>2008/Jul</th>\n",
       "      <th>2008/Ago</th>\n",
       "      <th>2008/Set</th>\n",
       "      <th>...</th>\n",
       "      <th>2017/Set</th>\n",
       "      <th>2017/Out</th>\n",
       "      <th>2017/Nov</th>\n",
       "      <th>2017/Dez</th>\n",
       "      <th>2018/Jan</th>\n",
       "      <th>2018/Fev</th>\n",
       "      <th>2018/Mar</th>\n",
       "      <th>2018/Abr</th>\n",
       "      <th>2018/Mai</th>\n",
       "      <th>2018/Jun</th>\n",
       "    </tr>\n",
       "  </thead>\n",
       "  <tbody>\n",
       "    <tr>\n",
       "      <th>0</th>\n",
       "      <td>35 São Paulo</td>\n",
       "      <td>2153</td>\n",
       "      <td>2800.0</td>\n",
       "      <td>2892</td>\n",
       "      <td>3000</td>\n",
       "      <td>3201</td>\n",
       "      <td>3008</td>\n",
       "      <td>3412</td>\n",
       "      <td>3395</td>\n",
       "      <td>3623</td>\n",
       "      <td>...</td>\n",
       "      <td>2852</td>\n",
       "      <td>2968</td>\n",
       "      <td>2946</td>\n",
       "      <td>2756</td>\n",
       "      <td>2771</td>\n",
       "      <td>2520</td>\n",
       "      <td>2595</td>\n",
       "      <td>2476</td>\n",
       "      <td>2559</td>\n",
       "      <td>2365.0</td>\n",
       "    </tr>\n",
       "    <tr>\n",
       "      <th>1</th>\n",
       "      <td>29 Bahia</td>\n",
       "      <td>1156</td>\n",
       "      <td>1640.0</td>\n",
       "      <td>1560</td>\n",
       "      <td>1722</td>\n",
       "      <td>1530</td>\n",
       "      <td>2089</td>\n",
       "      <td>1831</td>\n",
       "      <td>2267</td>\n",
       "      <td>2403</td>\n",
       "      <td>...</td>\n",
       "      <td>1533</td>\n",
       "      <td>1505</td>\n",
       "      <td>1545</td>\n",
       "      <td>1418</td>\n",
       "      <td>1462</td>\n",
       "      <td>1192</td>\n",
       "      <td>1375</td>\n",
       "      <td>1363</td>\n",
       "      <td>1260</td>\n",
       "      <td>1245.0</td>\n",
       "    </tr>\n",
       "    <tr>\n",
       "      <th>2</th>\n",
       "      <td>31 Minas Gerais</td>\n",
       "      <td>1193</td>\n",
       "      <td>1499.0</td>\n",
       "      <td>1601</td>\n",
       "      <td>1398</td>\n",
       "      <td>1534</td>\n",
       "      <td>1787</td>\n",
       "      <td>1639</td>\n",
       "      <td>1730</td>\n",
       "      <td>1751</td>\n",
       "      <td>...</td>\n",
       "      <td>1221</td>\n",
       "      <td>1459</td>\n",
       "      <td>1333</td>\n",
       "      <td>1359</td>\n",
       "      <td>1260</td>\n",
       "      <td>1235</td>\n",
       "      <td>1413</td>\n",
       "      <td>1196</td>\n",
       "      <td>1158</td>\n",
       "      <td>1086.0</td>\n",
       "    </tr>\n",
       "    <tr>\n",
       "      <th>3</th>\n",
       "      <td>33 Rio de Janeiro</td>\n",
       "      <td>679</td>\n",
       "      <td>816.0</td>\n",
       "      <td>1134</td>\n",
       "      <td>1072</td>\n",
       "      <td>1254</td>\n",
       "      <td>1243</td>\n",
       "      <td>1326</td>\n",
       "      <td>1475</td>\n",
       "      <td>1270</td>\n",
       "      <td>...</td>\n",
       "      <td>1308</td>\n",
       "      <td>1350</td>\n",
       "      <td>1217</td>\n",
       "      <td>1085</td>\n",
       "      <td>1049</td>\n",
       "      <td>930</td>\n",
       "      <td>919</td>\n",
       "      <td>946</td>\n",
       "      <td>920</td>\n",
       "      <td>910.0</td>\n",
       "    </tr>\n",
       "    <tr>\n",
       "      <th>4</th>\n",
       "      <td>26 Pernambuco</td>\n",
       "      <td>489</td>\n",
       "      <td>904.0</td>\n",
       "      <td>796</td>\n",
       "      <td>1142</td>\n",
       "      <td>903</td>\n",
       "      <td>877</td>\n",
       "      <td>886</td>\n",
       "      <td>1003</td>\n",
       "      <td>1008</td>\n",
       "      <td>...</td>\n",
       "      <td>796</td>\n",
       "      <td>795</td>\n",
       "      <td>778</td>\n",
       "      <td>831</td>\n",
       "      <td>738</td>\n",
       "      <td>647</td>\n",
       "      <td>749</td>\n",
       "      <td>693</td>\n",
       "      <td>716</td>\n",
       "      <td>666.0</td>\n",
       "    </tr>\n",
       "  </tbody>\n",
       "</table>\n",
       "<p>5 rows × 127 columns</p>\n",
       "</div>"
      ],
      "text/plain": [
       "                  uf  2008/Jan  2008/Fev  2008/Mar  2008/Abr  2008/Mai  \\\n",
       "0       35 São Paulo      2153    2800.0      2892      3000      3201   \n",
       "1           29 Bahia      1156    1640.0      1560      1722      1530   \n",
       "2    31 Minas Gerais      1193    1499.0      1601      1398      1534   \n",
       "3  33 Rio de Janeiro       679     816.0      1134      1072      1254   \n",
       "4      26 Pernambuco       489     904.0       796      1142       903   \n",
       "\n",
       "   2008/Jun  2008/Jul  2008/Ago  2008/Set  ...  2017/Set  2017/Out  2017/Nov  \\\n",
       "0      3008      3412      3395      3623  ...      2852      2968      2946   \n",
       "1      2089      1831      2267      2403  ...      1533      1505      1545   \n",
       "2      1787      1639      1730      1751  ...      1221      1459      1333   \n",
       "3      1243      1326      1475      1270  ...      1308      1350      1217   \n",
       "4       877       886      1003      1008  ...       796       795       778   \n",
       "\n",
       "   2017/Dez  2018/Jan  2018/Fev  2018/Mar  2018/Abr  2018/Mai  2018/Jun  \n",
       "0      2756      2771      2520      2595      2476      2559    2365.0  \n",
       "1      1418      1462      1192      1375      1363      1260    1245.0  \n",
       "2      1359      1260      1235      1413      1196      1158    1086.0  \n",
       "3      1085      1049       930       919       946       920     910.0  \n",
       "4       831       738       647       749       693       716     666.0  \n",
       "\n",
       "[5 rows x 127 columns]"
      ]
     },
     "execution_count": 73,
     "metadata": {},
     "output_type": "execute_result"
    }
   ],
   "source": [
    "# YOUR CODE HERE\n",
    "path_curetagem = '../../curso_ciencia_dados2020/data/originais/curetagem/consolidado/curetagem2018.xlsx'\n",
    "df_curetagem = pd.read_excel(path_curetagem, na_values='-')\n",
    "df_curetagem.rename(columns={'Unidade da Federação': 'uf'}, inplace=True)\n",
    "del df_curetagem['Total']\n",
    "df_curetagem.head()"
   ]
  },
  {
   "cell_type": "code",
   "execution_count": 74,
   "metadata": {
    "deletable": false,
    "nbgrader": {
     "cell_type": "code",
     "checksum": "119bcbf287ff8ac8dfeabe8239c0ef7a",
     "grade": true,
     "grade_id": "cell-de319310c172dba6",
     "locked": false,
     "points": 0,
     "schema_version": 3,
     "solution": true,
     "task": false
    }
   },
   "outputs": [
    {
     "data": {
      "text/html": [
       "<div>\n",
       "<style scoped>\n",
       "    .dataframe tbody tr th:only-of-type {\n",
       "        vertical-align: middle;\n",
       "    }\n",
       "\n",
       "    .dataframe tbody tr th {\n",
       "        vertical-align: top;\n",
       "    }\n",
       "\n",
       "    .dataframe thead th {\n",
       "        text-align: right;\n",
       "    }\n",
       "</style>\n",
       "<table border=\"1\" class=\"dataframe\">\n",
       "  <thead>\n",
       "    <tr style=\"text-align: right;\">\n",
       "      <th></th>\n",
       "      <th>uf</th>\n",
       "      <th>data</th>\n",
       "      <th>qtd</th>\n",
       "    </tr>\n",
       "  </thead>\n",
       "  <tbody>\n",
       "    <tr>\n",
       "      <th>0</th>\n",
       "      <td>35 São Paulo</td>\n",
       "      <td>2008/Jan</td>\n",
       "      <td>2153.0</td>\n",
       "    </tr>\n",
       "    <tr>\n",
       "      <th>1</th>\n",
       "      <td>29 Bahia</td>\n",
       "      <td>2008/Jan</td>\n",
       "      <td>1156.0</td>\n",
       "    </tr>\n",
       "    <tr>\n",
       "      <th>2</th>\n",
       "      <td>31 Minas Gerais</td>\n",
       "      <td>2008/Jan</td>\n",
       "      <td>1193.0</td>\n",
       "    </tr>\n",
       "    <tr>\n",
       "      <th>3</th>\n",
       "      <td>33 Rio de Janeiro</td>\n",
       "      <td>2008/Jan</td>\n",
       "      <td>679.0</td>\n",
       "    </tr>\n",
       "    <tr>\n",
       "      <th>4</th>\n",
       "      <td>26 Pernambuco</td>\n",
       "      <td>2008/Jan</td>\n",
       "      <td>489.0</td>\n",
       "    </tr>\n",
       "  </tbody>\n",
       "</table>\n",
       "</div>"
      ],
      "text/plain": [
       "                  uf      data     qtd\n",
       "0       35 São Paulo  2008/Jan  2153.0\n",
       "1           29 Bahia  2008/Jan  1156.0\n",
       "2    31 Minas Gerais  2008/Jan  1193.0\n",
       "3  33 Rio de Janeiro  2008/Jan   679.0\n",
       "4      26 Pernambuco  2008/Jan   489.0"
      ]
     },
     "execution_count": 74,
     "metadata": {},
     "output_type": "execute_result"
    }
   ],
   "source": [
    "# YOUR CODE HERE\n",
    "df_unpivoted = df_curetagem.melt(id_vars=['uf'], var_name='data', value_name='qtd')\n",
    "df_unpivoted.head()"
   ]
  },
  {
   "cell_type": "code",
   "execution_count": 75,
   "metadata": {
    "deletable": false,
    "nbgrader": {
     "cell_type": "code",
     "checksum": "b1050d76cb061928daedf8dd57fecca2",
     "grade": true,
     "grade_id": "cell-349193b87da3df2d",
     "locked": false,
     "points": 0,
     "schema_version": 3,
     "solution": true,
     "task": false
    }
   },
   "outputs": [
    {
     "data": {
      "text/html": [
       "<div>\n",
       "<style scoped>\n",
       "    .dataframe tbody tr th:only-of-type {\n",
       "        vertical-align: middle;\n",
       "    }\n",
       "\n",
       "    .dataframe tbody tr th {\n",
       "        vertical-align: top;\n",
       "    }\n",
       "\n",
       "    .dataframe thead th {\n",
       "        text-align: right;\n",
       "    }\n",
       "</style>\n",
       "<table border=\"1\" class=\"dataframe\">\n",
       "  <thead>\n",
       "    <tr style=\"text-align: right;\">\n",
       "      <th></th>\n",
       "      <th>uf</th>\n",
       "      <th>data</th>\n",
       "      <th>qtd</th>\n",
       "      <th>mes</th>\n",
       "      <th>ano</th>\n",
       "    </tr>\n",
       "  </thead>\n",
       "  <tbody>\n",
       "    <tr>\n",
       "      <th>0</th>\n",
       "      <td>35 São Paulo</td>\n",
       "      <td>2008-01-01</td>\n",
       "      <td>2153.0</td>\n",
       "      <td>1</td>\n",
       "      <td>2008</td>\n",
       "    </tr>\n",
       "    <tr>\n",
       "      <th>1</th>\n",
       "      <td>29 Bahia</td>\n",
       "      <td>2008-01-01</td>\n",
       "      <td>1156.0</td>\n",
       "      <td>1</td>\n",
       "      <td>2008</td>\n",
       "    </tr>\n",
       "    <tr>\n",
       "      <th>2</th>\n",
       "      <td>31 Minas Gerais</td>\n",
       "      <td>2008-01-01</td>\n",
       "      <td>1193.0</td>\n",
       "      <td>1</td>\n",
       "      <td>2008</td>\n",
       "    </tr>\n",
       "    <tr>\n",
       "      <th>3</th>\n",
       "      <td>33 Rio de Janeiro</td>\n",
       "      <td>2008-01-01</td>\n",
       "      <td>679.0</td>\n",
       "      <td>1</td>\n",
       "      <td>2008</td>\n",
       "    </tr>\n",
       "    <tr>\n",
       "      <th>4</th>\n",
       "      <td>26 Pernambuco</td>\n",
       "      <td>2008-01-01</td>\n",
       "      <td>489.0</td>\n",
       "      <td>1</td>\n",
       "      <td>2008</td>\n",
       "    </tr>\n",
       "  </tbody>\n",
       "</table>\n",
       "</div>"
      ],
      "text/plain": [
       "                  uf       data     qtd  mes   ano\n",
       "0       35 São Paulo 2008-01-01  2153.0    1  2008\n",
       "1           29 Bahia 2008-01-01  1156.0    1  2008\n",
       "2    31 Minas Gerais 2008-01-01  1193.0    1  2008\n",
       "3  33 Rio de Janeiro 2008-01-01   679.0    1  2008\n",
       "4      26 Pernambuco 2008-01-01   489.0    1  2008"
      ]
     },
     "execution_count": 75,
     "metadata": {},
     "output_type": "execute_result"
    }
   ],
   "source": [
    "# YOUR CODE HERE\n",
    "from datetime import datetime\n",
    "import locale\n",
    "\n",
    "locale.setlocale(locale.LC_ALL, 'pt_BR.UTF-8')\n",
    "\n",
    "df_unpivoted['mes'] = df_unpivoted['data'].apply(lambda x: datetime.strptime(x, '%Y/%b').month)\n",
    "df_unpivoted['ano'] = df_unpivoted['data'].apply(lambda x: datetime.strptime(x, '%Y/%b').year)\n",
    "df_unpivoted['data'] = df_unpivoted['data'].apply(lambda x: datetime.strptime(x, '%Y/%b'))\n",
    "df_unpivoted['qtd'] = df_unpivoted['qtd'].astype(float)\n",
    "df_unpivoted.head()"
   ]
  },
  {
   "cell_type": "code",
   "execution_count": 85,
   "metadata": {
    "deletable": false,
    "nbgrader": {
     "cell_type": "code",
     "checksum": "af9ed8efaaa5c73e1df28465c9c38af3",
     "grade": true,
     "grade_id": "cell-d4b0a5bd3adf4388",
     "locked": false,
     "points": 0,
     "schema_version": 3,
     "solution": true,
     "task": false
    }
   },
   "outputs": [
    {
     "data": {
      "text/plain": [
       "<seaborn.axisgrid.FacetGrid at 0x7f2bff9fe160>"
      ]
     },
     "execution_count": 85,
     "metadata": {},
     "output_type": "execute_result"
    },
    {
     "data": {
      "image/png": "[encoded data removed]",
      "text/plain": [
       "<Figure size 720x360 with 1 Axes>"
      ]
     },
     "metadata": {},
     "output_type": "display_data"
    }
   ],
   "source": [
    "# YOUR CODE HERE\n",
    "g = sns.relplot(kind='line', x='mes', y='qtd', aspect=2, data=df_unpivoted)\n",
    "g.set(xlim=(1,12), xticks=[x for x in range(1,13)])\n",
    "\n",
    "#------------------------------------------------------\n",
    "# COMENTÁRIOS DO ALUNO - HALISSON S GOMIDES\n",
    "#------------------------------------------------------\n",
    "# 1. Analisando o gráfico abaixo, que corresponde à quantidade de procedimentos de curetagem\n",
    "# realizados durante os meses do ano, com dados de 2008 a 2018, nota-se que a quantidade se \n",
    "# mostra periódica (sazonal).\n",
    "# 2. Nota-se que nos meses de setembro e outubro há uma incidência maior da realização de procedimentos\n",
    "# de curetagem, sendo esses meses o período médio do pico.\n",
    "# 3. Se a maior quantidade de procedimetos de curetagem ocorre em setembro e outubro, conclui-se que\n",
    "# o perído gestacional dever ter se iniciado entre os meses de julho e agosto.\n",
    "# Uma das possíveis causas dessa periodicidade pode ser: férias escolares, para o público adolescente"
   ]
  },
  {
   "cell_type": "markdown",
   "metadata": {},
   "source": [
    "### 6.4 Reescreva em português todos os textos que aparecem no gráfico a seguir. \n"
   ]
  },
  {
   "cell_type": "code",
   "execution_count": 86,
   "metadata": {
    "deletable": false,
    "editable": false,
    "nbgrader": {
     "cell_type": "code",
     "checksum": "7e350865a93e390495ba332dc75d3dc3",
     "grade": false,
     "grade_id": "cell-ef27064fd86379c0",
     "locked": true,
     "schema_version": 3,
     "solution": false,
     "task": false
    }
   },
   "outputs": [
    {
     "data": {
      "image/png": "[encoded data removed]",
      "text/plain": [
       "<Figure size 417.475x360 with 1 Axes>"
      ]
     },
     "metadata": {},
     "output_type": "display_data"
    }
   ],
   "source": [
    "sns.set() # Ajusta valor padrão de tema, escala e paleta de cor\n",
    "tips = sns.load_dataset(\"tips\") \n",
    "sns.catplot(x=\"day\", y=\"total_bill\", hue=\"smoker\",\n",
    "            kind=\"violin\", split=True, data=tips);"
   ]
  },
  {
   "cell_type": "code",
   "execution_count": 94,
   "metadata": {
    "deletable": false,
    "nbgrader": {
     "cell_type": "code",
     "checksum": "e890c2e5209f0168a7409f1f9574f71d",
     "grade": true,
     "grade_id": "cell-553em5248eb14bc30",
     "locked": false,
     "points": 1,
     "schema_version": 3,
     "solution": true,
     "task": false
    }
   },
   "outputs": [
    {
     "data": {
      "image/png": "[encoded data removed]",
      "text/plain": [
       "<Figure size 417.475x360 with 1 Axes>"
      ]
     },
     "metadata": {},
     "output_type": "display_data"
    }
   ],
   "source": [
    "# YOUR CODE HERE\n",
    "g= sns.catplot(x=\"day\", y=\"total_bill\", hue=\"smoker\",\n",
    "            kind=\"violin\", split=True, data=tips);\n",
    "g.set_axis_labels(\"dia\", \"Total da Conta\")\n",
    "g.ax.set_xticklabels([\"Qui\", \"Sex\", \"Sab\", \"Dom\"]);\n",
    "g._legend.set_title(\"Fumante\")\n",
    "new_labels = ['Sim', 'Não']\n",
    "for t, l in zip(g._legend.texts, new_labels): t.set_text(l)"
   ]
  },
  {
   "cell_type": "markdown",
   "metadata": {},
   "source": [
    "### 6.5 Analise o dataset titanic e encontre duas variáveis que tenham relação com a probabilidade de sobreviência ao acidente com o navio.\n",
    "#### Plote gráficos com a biblioteca seaborn para mostrar suas conclusões.\n",
    "#### Use funções do seaborn ou do matplotlib para personalisar e destacar as suas conclusões.\n",
    "#### Use no máximo 4 células para colocar sua resposta.\n"
   ]
  },
  {
   "cell_type": "code",
   "execution_count": 141,
   "metadata": {
    "deletable": false,
    "nbgrader": {
     "cell_type": "code",
     "checksum": "6577247d7e02b9ad38570cc20bf29cd8",
     "grade": true,
     "grade_id": "cell-553e524r8eb14bc30",
     "locked": false,
     "points": 6,
     "schema_version": 3,
     "solution": true,
     "task": false
    }
   },
   "outputs": [
    {
     "data": {
      "text/html": [
       "<div>\n",
       "<style scoped>\n",
       "    .dataframe tbody tr th:only-of-type {\n",
       "        vertical-align: middle;\n",
       "    }\n",
       "\n",
       "    .dataframe tbody tr th {\n",
       "        vertical-align: top;\n",
       "    }\n",
       "\n",
       "    .dataframe thead tr th {\n",
       "        text-align: left;\n",
       "    }\n",
       "\n",
       "    .dataframe thead tr:last-of-type th {\n",
       "        text-align: right;\n",
       "    }\n",
       "</style>\n",
       "<table border=\"1\" class=\"dataframe\">\n",
       "  <thead>\n",
       "    <tr>\n",
       "      <th></th>\n",
       "      <th></th>\n",
       "      <th>survived</th>\n",
       "      <th>fare</th>\n",
       "    </tr>\n",
       "    <tr>\n",
       "      <th></th>\n",
       "      <th></th>\n",
       "      <th>sum</th>\n",
       "      <th>mean</th>\n",
       "    </tr>\n",
       "    <tr>\n",
       "      <th>sex</th>\n",
       "      <th>pclass</th>\n",
       "      <th></th>\n",
       "      <th></th>\n",
       "    </tr>\n",
       "  </thead>\n",
       "  <tbody>\n",
       "    <tr>\n",
       "      <th rowspan=\"3\" valign=\"top\">female</th>\n",
       "      <th>1</th>\n",
       "      <td>91</td>\n",
       "      <td>106.125798</td>\n",
       "    </tr>\n",
       "    <tr>\n",
       "      <th>2</th>\n",
       "      <td>70</td>\n",
       "      <td>21.970121</td>\n",
       "    </tr>\n",
       "    <tr>\n",
       "      <th>3</th>\n",
       "      <td>72</td>\n",
       "      <td>16.118810</td>\n",
       "    </tr>\n",
       "    <tr>\n",
       "      <th rowspan=\"3\" valign=\"top\">male</th>\n",
       "      <th>1</th>\n",
       "      <td>45</td>\n",
       "      <td>67.226127</td>\n",
       "    </tr>\n",
       "    <tr>\n",
       "      <th>2</th>\n",
       "      <td>17</td>\n",
       "      <td>19.741782</td>\n",
       "    </tr>\n",
       "    <tr>\n",
       "      <th>3</th>\n",
       "      <td>47</td>\n",
       "      <td>12.661633</td>\n",
       "    </tr>\n",
       "  </tbody>\n",
       "</table>\n",
       "</div>"
      ],
      "text/plain": [
       "              survived        fare\n",
       "                   sum        mean\n",
       "sex    pclass                     \n",
       "female 1            91  106.125798\n",
       "       2            70   21.970121\n",
       "       3            72   16.118810\n",
       "male   1            45   67.226127\n",
       "       2            17   19.741782\n",
       "       3            47   12.661633"
      ]
     },
     "execution_count": 141,
     "metadata": {},
     "output_type": "execute_result"
    }
   ],
   "source": [
    "# YOUR CODE HERE\n",
    "df_titanic = sns.load_dataset(\"titanic\")\n",
    "df_plot = df_titanic.groupby(['sex', 'pclass']).agg({'survived': ['sum'],'fare': ['mean']})\n",
    "df_plot"
   ]
  },
  {
   "cell_type": "code",
   "execution_count": 144,
   "metadata": {},
   "outputs": [
    {
     "data": {
      "image/png": "[encoded data removed]",
      "text/plain": [
       "<Figure size 657.3x324 with 2 Axes>"
      ]
     },
     "metadata": {},
     "output_type": "display_data"
    }
   ],
   "source": [
    "# Célula 2\n",
    "sns.set(style=\"ticks\")\n",
    "# g = sns.PairGrid(df_titanic, hue='survived')\n",
    "# g = sns.FacetGrid(df_titanic, row=\"alive\", col=\"sex\", margin_titles=True)\n",
    "\n",
    "\n",
    "g = sns.relplot(x=(\"fare\", \"mean\"), y=(\"survived\", \"sum\"),\n",
    "                 col=\"sex\", hue='pclass',\n",
    "                 kind=\"scatter\", height=4.5, aspect=.9, data=df_plot.reset_index())\n",
    "\n",
    "# -----------------------------------------------\n",
    "# Comentários do aluno - Halisson S Gomides\n",
    "\n",
    "# 1. Conforme interpretação do gráfico abaixo, \n",
    "# parece que pessoas do sexo feminino que viajavam\n",
    "# na primeira classe tiveram mais chances de sobrevivência.\n",
    "# O que coaduna com o que podemos ver no gráfico sobre \n",
    "# um número maior de sobreviventes mulheres que pagaram uma tarifa maior.\n",
    "# -----------------------------------------------"
   ]
  },
  {
   "cell_type": "code",
   "execution_count": 143,
   "metadata": {},
   "outputs": [
    {
     "data": {
      "text/html": [
       "<div>\n",
       "<style scoped>\n",
       "    .dataframe tbody tr th:only-of-type {\n",
       "        vertical-align: middle;\n",
       "    }\n",
       "\n",
       "    .dataframe tbody tr th {\n",
       "        vertical-align: top;\n",
       "    }\n",
       "\n",
       "    .dataframe thead tr th {\n",
       "        text-align: left;\n",
       "    }\n",
       "\n",
       "    .dataframe thead tr:last-of-type th {\n",
       "        text-align: right;\n",
       "    }\n",
       "</style>\n",
       "<table border=\"1\" class=\"dataframe\">\n",
       "  <thead>\n",
       "    <tr>\n",
       "      <th></th>\n",
       "      <th></th>\n",
       "      <th>survived</th>\n",
       "      <th>fare</th>\n",
       "    </tr>\n",
       "    <tr>\n",
       "      <th></th>\n",
       "      <th></th>\n",
       "      <th>sum</th>\n",
       "      <th>mean</th>\n",
       "    </tr>\n",
       "    <tr>\n",
       "      <th>sex</th>\n",
       "      <th>alone</th>\n",
       "      <th></th>\n",
       "      <th></th>\n",
       "    </tr>\n",
       "  </thead>\n",
       "  <tbody>\n",
       "    <tr>\n",
       "      <th rowspan=\"2\" valign=\"top\">female</th>\n",
       "      <th>0</th>\n",
       "      <td>134</td>\n",
       "      <td>50.151751</td>\n",
       "    </tr>\n",
       "    <tr>\n",
       "      <th>1</th>\n",
       "      <td>99</td>\n",
       "      <td>36.016933</td>\n",
       "    </tr>\n",
       "    <tr>\n",
       "      <th rowspan=\"2\" valign=\"top\">male</th>\n",
       "      <th>0</th>\n",
       "      <td>45</td>\n",
       "      <td>47.337930</td>\n",
       "    </tr>\n",
       "    <tr>\n",
       "      <th>1</th>\n",
       "      <td>64</td>\n",
       "      <td>16.713358</td>\n",
       "    </tr>\n",
       "  </tbody>\n",
       "</table>\n",
       "</div>"
      ],
      "text/plain": [
       "             survived       fare\n",
       "                  sum       mean\n",
       "sex    alone                    \n",
       "female 0          134  50.151751\n",
       "       1           99  36.016933\n",
       "male   0           45  47.337930\n",
       "       1           64  16.713358"
      ]
     },
     "execution_count": 143,
     "metadata": {},
     "output_type": "execute_result"
    }
   ],
   "source": [
    "# Célula 3\n",
    "df_titanic['alone'] = df_titanic['alone'].apply(lambda x: 1 if x else 0)\n",
    "df_plot2 = df_titanic.groupby(['sex', 'alone']).agg({'survived': ['sum'],'fare': ['mean']})\n",
    "df_plot2"
   ]
  },
  {
   "cell_type": "code",
   "execution_count": 146,
   "metadata": {},
   "outputs": [
    {
     "data": {
      "image/png": "[encoded data removed]",
      "text/plain": [
       "<Figure size 653.3x324 with 2 Axes>"
      ]
     },
     "metadata": {},
     "output_type": "display_data"
    }
   ],
   "source": [
    "# Célula 4\n",
    "g2 = sns.relplot(x=(\"fare\", \"mean\"), y=(\"survived\", \"sum\"),\n",
    "                 col=\"sex\", hue='alone',\n",
    "                 kind=\"scatter\", height=4.5, aspect=.9, data=df_plot2.reset_index())\n",
    "\n",
    "# -----------------------------------------------\n",
    "# Comentários do aluno - Halisson S Gomides\n",
    "\n",
    "# 2. Conforme interpretação do gráfico abaixo, \n",
    "# parece que pessoas do sexo feminino que desembolsaram \n",
    "# um valor maior de tarifa e viajavam\n",
    "# acompanhadas tiveram mais chances de sobrevivência.\n",
    "# -----------------------------------------------"
   ]
  },
  {
   "cell_type": "code",
   "execution_count": null,
   "metadata": {},
   "outputs": [],
   "source": []
  }
 ],
 "metadata": {
  "kernelspec": {
   "display_name": "Python 3",
   "language": "python",
   "name": "python3"
  },
  "language_info": {
   "codemirror_mode": {
    "name": "ipython",
    "version": 3
   },
   "file_extension": ".py",
   "mimetype": "text/x-python",
   "name": "python",
   "nbconvert_exporter": "python",
   "pygments_lexer": "ipython3",
   "version": "3.8.4"
  }
 },
 "nbformat": 4,
 "nbformat_minor": 4
}
