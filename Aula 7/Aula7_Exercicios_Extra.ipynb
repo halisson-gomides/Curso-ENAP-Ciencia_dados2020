{
 "cells": [
  {
   "cell_type": "markdown",
   "metadata": {},
   "source": [
    "# Aula 7 - Exercícios Extra - Correlação e Regressão\n",
    "### Consulta a internet (Google, Stackoverflow e etc) liberada!!"
   ]
  },
  {
   "cell_type": "code",
   "execution_count": null,
   "metadata": {},
   "outputs": [],
   "source": [
    "# Importe a biblioteca pandas\n",
    "import pandas as pd\n",
    "import seaborn as sns\n",
    "import matplotlib.pyplot as plt "
   ]
  },
  {
   "cell_type": "markdown",
   "metadata": {},
   "source": [
    "### 7.5 Desenvolva um código de análise de dados usando o Pandas para analisar uma possível correlação entre os dados de morbidade dos municípios brasileiros (ou outro dataset de sua preferência) com os dados de mobilidade do google também disponibilizado entre os datasets do curso. O objetivo é tentar encontrar alguma correlação entre a mobilidade (ou o isolamento social) e os efeitos negativos da pandemia.\n",
    "\n",
    "#### Leia a documentação para entender este dataset: https://support.google.com/covid19-mobility/answer/9824897?hl=en&ref_topic=9822927\n",
    "#### É possível que você necessite fazer várias operações de merge para conseguir fazer o merge desses dois datasets, pois o dataset de mobilidade não tem o código do ibge do município.\n",
    "#### Não deixe de avaliar também a necessidade de realizar operações de groupby\n",
    "#### Uma questão importante é buscar uma métrica de mobilidade a ser extraída do dataset disponibilizado pelo google. Leia a documentação desse dataset para tentar usar ou desenvolver tal métrica.\n",
    "#### Comente o resultado encontrado. O exercício é de correção manual. Não há uma resposta correta. Será avaliado a sua capacidade de análise do resultado e não necessariamente o fato de você ter encontrado ou não uma correlação."
   ]
  },
  {
   "cell_type": "code",
   "execution_count": 1,
   "metadata": {},
   "outputs": [
    {
     "name": "stdout",
     "output_type": "stream",
     "text": [
      "remote: Enumerating objects: 8, done.\u001b[K\n",
      "remote: Counting objects: 100% (8/8), done.\u001b[K\n",
      "remote: Compressing objects: 100% (3/3), done.\u001b[K\n",
      "remote: Total 5 (delta 2), reused 5 (delta 2), pack-reused 0\u001b[K\n",
      "Unpacking objects: 100% (5/5), 922 bytes | 2.00 KiB/s, done.\n",
      "From https://github.com/alexlopespereira/curso_ciencia_dados2020\n",
      "   05b05fa..901244c  master     -> origin/master\n",
      "Updating 05b05fa..901244c\n",
      "Fast-forward\n",
      " scrapy/books_toscrapy.py | 18 \u001b[32m++++++++\u001b[m\u001b[31m----------\u001b[m\n",
      " scrapy/sei.py            | 22 \u001b[32m++++++++++++++++++++++\u001b[m\n",
      " 2 files changed, 30 insertions(+), 10 deletions(-)\n",
      " create mode 100644 scrapy/sei.py\n"
     ]
    }
   ],
   "source": [
    "# Esse comando vai fazer o download do dataset de mobilidade\n",
    "# O arquivo tem 27MB, pode demorar um pouco pra fazer o download.\n",
    "!cd ../../curso_ciencia_dados2020 && git pull"
   ]
  },
  {
   "cell_type": "code",
   "execution_count": null,
   "metadata": {
    "deletable": false,
    "nbgrader": {
     "cell_type": "code",
     "checksum": "b83a10a93e0a6eddf2efdf3f26f6af10",
     "grade": true,
     "grade_id": "cell-f21ba3fc1a04df46",
     "locked": false,
     "points": 10,
     "schema_version": 3,
     "solution": true,
     "task": false
    }
   },
   "outputs": [],
   "source": [
    "# YOUR CODE HERE\n",
    "raise NotImplementedError()"
   ]
  },
  {
   "cell_type": "code",
   "execution_count": null,
   "metadata": {},
   "outputs": [],
   "source": []
  },
  {
   "cell_type": "code",
   "execution_count": null,
   "metadata": {},
   "outputs": [],
   "source": []
  },
  {
   "cell_type": "code",
   "execution_count": null,
   "metadata": {},
   "outputs": [],
   "source": []
  },
  {
   "cell_type": "code",
   "execution_count": null,
   "metadata": {},
   "outputs": [],
   "source": []
  },
  {
   "cell_type": "code",
   "execution_count": null,
   "metadata": {},
   "outputs": [],
   "source": []
  },
  {
   "cell_type": "code",
   "execution_count": null,
   "metadata": {},
   "outputs": [],
   "source": []
  },
  {
   "cell_type": "code",
   "execution_count": null,
   "metadata": {},
   "outputs": [],
   "source": []
  },
  {
   "cell_type": "code",
   "execution_count": null,
   "metadata": {},
   "outputs": [],
   "source": []
  },
  {
   "cell_type": "code",
   "execution_count": null,
   "metadata": {},
   "outputs": [],
   "source": []
  },
  {
   "cell_type": "code",
   "execution_count": null,
   "metadata": {},
   "outputs": [],
   "source": []
  },
  {
   "cell_type": "code",
   "execution_count": null,
   "metadata": {},
   "outputs": [],
   "source": []
  },
  {
   "cell_type": "code",
   "execution_count": null,
   "metadata": {},
   "outputs": [],
   "source": []
  }
 ],
 "metadata": {
  "kernelspec": {
   "display_name": "Python 3",
   "language": "python",
   "name": "python3"
  },
  "language_info": {
   "codemirror_mode": {
    "name": "ipython",
    "version": 3
   },
   "file_extension": ".py",
   "mimetype": "text/x-python",
   "name": "python",
   "nbconvert_exporter": "python",
   "pygments_lexer": "ipython3",
   "version": "3.8.4"
  }
 },
 "nbformat": 4,
 "nbformat_minor": 4
}
