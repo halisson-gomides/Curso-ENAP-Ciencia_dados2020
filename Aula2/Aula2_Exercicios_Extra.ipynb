{
 "cells": [
  {
   "cell_type": "markdown",
   "metadata": {},
   "source": [
    "# Aula 2 - Exercícios Extra - Python e Pandas\n",
    "### Consulta a internet (Google, Stackoverflow e etc) liberada!!"
   ]
  },
  {
   "cell_type": "markdown",
   "metadata": {},
   "source": [
    "#### Fonte dos exercícios:\n",
    "1 - https://www.w3resource.com/python-exercises/python-basic-exercises.php\n",
    "\n",
    "2 - https://www.kaggle.com/python10pm/pandas-75-exercises-with-solutions\n",
    "\n",
    "3 - https://www.kaggle.com/python10pm/pandas-exercises-with-solutions-3-3\n"
   ]
  },
  {
   "cell_type": "code",
   "execution_count": 1,
   "metadata": {},
   "outputs": [],
   "source": [
    "# Importe a biblioteca pandas e numpy\n",
    "import pandas as pd\n",
    "import numpy as np"
   ]
  },
  {
   "cell_type": "markdown",
   "metadata": {},
   "source": [
    "### 2.8 Escreva uma função para ordenar uma lista de dicionários usando uma função Lambda. \n",
    "### A função criada deve receber como argumento a chave do dicionário que será usada \n",
    "### na ordenação da lista.\n"
   ]
  },
  {
   "cell_type": "code",
   "execution_count": 8,
   "metadata": {
    "deletable": false,
    "nbgrader": {
     "cell_type": "code",
     "checksum": "77926cecdeb134d7fc344ffd55a0ea93",
     "grade": false,
     "grade_id": "cell-c705b9d11473b9f9",
     "locked": false,
     "schema_version": 3,
     "solution": true,
     "task": false
    }
   },
   "outputs": [],
   "source": [
    "# Dica: use a função sorted\n",
    "def sort_dict_list(l, col):\n",
    "    \"\"\"retorne os valores do complemento de s1 em relação a s2\n",
    "    \"\"\"\n",
    "    # YOUR CODE HERE\n",
    "    try:\n",
    "        dict_sorted = sorted(l, key=lambda x: x[col])\n",
    "        return dict_sorted\n",
    "        \n",
    "    except:\n",
    "        raise NotImplementedError('Não implementado.')\n"
   ]
  },
  {
   "cell_type": "code",
   "execution_count": 9,
   "metadata": {},
   "outputs": [
    {
     "data": {
      "text/plain": [
       "[{'name': ['David'],\n",
       "  'class': ['V'],\n",
       "  'subject_integration': ['english', 'math', 'science']},\n",
       " {'name': ['Sara'],\n",
       "  'class': ['V'],\n",
       "  'subject_integration': ['english', 'math', 'science']},\n",
       " {'name': ['Surya'],\n",
       "  'class': ['V'],\n",
       "  'subject_integration': ['english', 'math', 'science']}]"
      ]
     },
     "execution_count": 9,
     "metadata": {},
     "output_type": "execute_result"
    }
   ],
   "source": [
    "## Faça seus testes aqui\n",
    "data = [{'name': ['Sara'], 'class': ['V'], 'subject_integration': ['english', 'math', 'science']},\n",
    "        {'name': ['David'], 'class': ['V'], 'subject_integration': ['english', 'math', 'science']},\n",
    "       {'name': ['Surya'], 'class': ['V'], 'subject_integration': ['english', 'math', 'science']}]\n",
    "\n",
    "sort_dict_list(data, 'name')"
   ]
  },
  {
   "cell_type": "code",
   "execution_count": 10,
   "metadata": {
    "deletable": false,
    "editable": false,
    "nbgrader": {
     "cell_type": "code",
     "checksum": "115850c207cf83950fdd8b642ae0d223",
     "grade": true,
     "grade_id": "cell-9ffda88d58e9282a",
     "locked": true,
     "points": 1,
     "schema_version": 3,
     "solution": false,
     "task": false
    }
   },
   "outputs": [],
   "source": [
    "# Validação para nota\n",
    "data = [{'name': ['Sara'], 'class': ['V'], 'subject_integration': ['english', 'math', 'science']},\n",
    "        {'name': ['David'], 'class': ['V'], 'subject_integration': ['english', 'math', 'science']},\n",
    "       {'name': ['Surya'], 'class': ['V'], 'subject_integration': ['english', 'math', 'science']}]\n",
    "\n",
    "data_sorted = [{'name': ['David'], 'class': ['V'], 'subject_integration': ['english', 'math', 'science']},\n",
    "        {'name': ['Sara'], 'class': ['V'], 'subject_integration': ['english', 'math', 'science']},\n",
    "       {'name': ['Surya'], 'class': ['V'], 'subject_integration': ['english', 'math', 'science']}]\n",
    "\n",
    "assert sort_dict_list(data, 'name') == data_sorted"
   ]
  },
  {
   "cell_type": "markdown",
   "metadata": {},
   "source": [
    "### 2.9 Escreva uma função para criar uma nova coluna 'segundo' que tenha \n",
    "### o segundo maior valor de cada linha de df.\n"
   ]
  },
  {
   "cell_type": "code",
   "execution_count": 29,
   "metadata": {
    "deletable": false,
    "nbgrader": {
     "cell_type": "code",
     "checksum": "a3eb91a1b16d6db449d117c869089e13",
     "grade": false,
     "grade_id": "cell-553ee248eb14bc30",
     "locked": false,
     "schema_version": 3,
     "solution": true,
     "task": false
    }
   },
   "outputs": [],
   "source": [
    "# Dica 1: Use a função apply do Dataframe aplicando uma função lambda.\n",
    "#            e use a função sorted de List dentro da função lambda.\n",
    "# Dica 2: Aplique a função lambda no eixo 1.\n",
    "\n",
    "def segundo_maior(df):\n",
    "    \"\"\"retorne os valores que não são comuns em duas séries\n",
    "    \"\"\"\n",
    "    # YOUR CODE HERE\n",
    "    try:\n",
    "        df['segundo'] = df.apply(lambda x: sorted(x)[-2], axis = 1)\n",
    "        return df\n",
    "        \n",
    "    except:\n",
    "        raise NotImplementedError('Erro.')\n"
   ]
  },
  {
   "cell_type": "code",
   "execution_count": 30,
   "metadata": {},
   "outputs": [
    {
     "data": {
      "text/html": [
       "<div>\n",
       "<style scoped>\n",
       "    .dataframe tbody tr th:only-of-type {\n",
       "        vertical-align: middle;\n",
       "    }\n",
       "\n",
       "    .dataframe tbody tr th {\n",
       "        vertical-align: top;\n",
       "    }\n",
       "\n",
       "    .dataframe thead th {\n",
       "        text-align: right;\n",
       "    }\n",
       "</style>\n",
       "<table border=\"1\" class=\"dataframe\">\n",
       "  <thead>\n",
       "    <tr style=\"text-align: right;\">\n",
       "      <th></th>\n",
       "      <th>d1</th>\n",
       "      <th>d2</th>\n",
       "      <th>d3</th>\n",
       "      <th>segundo</th>\n",
       "    </tr>\n",
       "  </thead>\n",
       "  <tbody>\n",
       "    <tr>\n",
       "      <th>0</th>\n",
       "      <td>20</td>\n",
       "      <td>33</td>\n",
       "      <td>19</td>\n",
       "      <td>20</td>\n",
       "    </tr>\n",
       "    <tr>\n",
       "      <th>1</th>\n",
       "      <td>36</td>\n",
       "      <td>25</td>\n",
       "      <td>47</td>\n",
       "      <td>36</td>\n",
       "    </tr>\n",
       "    <tr>\n",
       "      <th>2</th>\n",
       "      <td>25</td>\n",
       "      <td>48</td>\n",
       "      <td>9</td>\n",
       "      <td>25</td>\n",
       "    </tr>\n",
       "    <tr>\n",
       "      <th>3</th>\n",
       "      <td>4</td>\n",
       "      <td>39</td>\n",
       "      <td>27</td>\n",
       "      <td>27</td>\n",
       "    </tr>\n",
       "    <tr>\n",
       "      <th>4</th>\n",
       "      <td>1</td>\n",
       "      <td>49</td>\n",
       "      <td>48</td>\n",
       "      <td>48</td>\n",
       "    </tr>\n",
       "    <tr>\n",
       "      <th>5</th>\n",
       "      <td>20</td>\n",
       "      <td>37</td>\n",
       "      <td>26</td>\n",
       "      <td>26</td>\n",
       "    </tr>\n",
       "    <tr>\n",
       "      <th>6</th>\n",
       "      <td>17</td>\n",
       "      <td>45</td>\n",
       "      <td>24</td>\n",
       "      <td>24</td>\n",
       "    </tr>\n",
       "    <tr>\n",
       "      <th>7</th>\n",
       "      <td>47</td>\n",
       "      <td>36</td>\n",
       "      <td>21</td>\n",
       "      <td>36</td>\n",
       "    </tr>\n",
       "    <tr>\n",
       "      <th>8</th>\n",
       "      <td>2</td>\n",
       "      <td>37</td>\n",
       "      <td>1</td>\n",
       "      <td>2</td>\n",
       "    </tr>\n",
       "    <tr>\n",
       "      <th>9</th>\n",
       "      <td>40</td>\n",
       "      <td>31</td>\n",
       "      <td>2</td>\n",
       "      <td>31</td>\n",
       "    </tr>\n",
       "  </tbody>\n",
       "</table>\n",
       "</div>"
      ],
      "text/plain": [
       "   d1  d2  d3  segundo\n",
       "0  20  33  19       20\n",
       "1  36  25  47       36\n",
       "2  25  48   9       25\n",
       "3   4  39  27       27\n",
       "4   1  49  48       48\n",
       "5  20  37  26       26\n",
       "6  17  45  24       24\n",
       "7  47  36  21       36\n",
       "8   2  37   1        2\n",
       "9  40  31   2       31"
      ]
     },
     "execution_count": 30,
     "metadata": {},
     "output_type": "execute_result"
    }
   ],
   "source": [
    "## Faça seus testes aqui\n",
    "data = {'d1': [20, 36, 25,  4,  1, 20, 17, 47,  2, 40],\n",
    "        'd2': [33, 25, 48, 39, 49, 37, 45, 36, 37, 31],\n",
    "        'd3': [19, 47,  9, 27, 48, 26, 24, 21,  1,  2]}\n",
    "df = pd.DataFrame(data)\n",
    "\n",
    "segundo_maior(df)"
   ]
  },
  {
   "cell_type": "code",
   "execution_count": 31,
   "metadata": {
    "deletable": false,
    "editable": false,
    "nbgrader": {
     "cell_type": "code",
     "checksum": "92ea5a8749d912191432d5a7829449d1",
     "grade": true,
     "grade_id": "cell-0e2bt6cefe06bdc60",
     "locked": true,
     "points": 1,
     "schema_version": 3,
     "solution": false,
     "task": false
    }
   },
   "outputs": [],
   "source": [
    "# Validação para nota\n",
    "data = {'d1': [20, 36, 25,  4,  1, 20, 17, 47,  2, 40],\n",
    "        'd2': [33, 25, 48, 39, 49, 37, 45, 36, 37, 31],\n",
    "        'd3': [19, 47,  9, 27, 48, 26, 24, 21,  1,  2]}\n",
    "df = pd.DataFrame(data)\n",
    "assert list(segundo_maior(df)['segundo']) == [20, 36, 25, 27, 48, 26, 24, 36, 2, 31]"
   ]
  },
  {
   "cell_type": "markdown",
   "metadata": {},
   "source": [
    "### 2.10 Escreva uma função para retornar a coluna que contem a maior quantidade de\n",
    "### valores máximos por linha\n",
    "#### Exemplo: Considere uma o dataframe a seguir\n",
    "|    |   d1 |   d2 |   d3 |\n",
    "|---:|-----:|-----:|-----:|\n",
    "|  0 |   20 |   33 |   49 |\n",
    "|  1 |   36 |   25 |   47 |\n",
    "|  2 |   55 |   48 |    9 |\n",
    "|  3 |    1 |   12 |    3 |\n",
    "\n",
    "#### Resultado Esperado: [49, 47,  9, 3]\n"
   ]
  },
  {
   "cell_type": "code",
   "execution_count": 65,
   "metadata": {
    "deletable": false,
    "nbgrader": {
     "cell_type": "code",
     "checksum": "b7a9e8e6af8836439fb202fcb1e485f7",
     "grade": false,
     "grade_id": "cell-065ae8d8f787b9b0",
     "locked": false,
     "schema_version": 3,
     "solution": true,
     "task": false
    }
   },
   "outputs": [],
   "source": [
    "# Dica 1: Use a função apply do Dataframe aplicando a função np.argmax.\n",
    "# Dica 2: Aplique a função np.argmax no eixo 1.\n",
    "# Dica 3: Use a funcao value_counts para contar quantas vezes cada coluna aparece \n",
    "#         como índice de máximo valor\n",
    "# Dica 4: Use o código df.iloc[:,N]  ( onde N é o índice da coluna) para retornar os\n",
    "#         dados da coluna desejada. Encontre o valor N com a função iloc\n",
    "\n",
    "def column_of_max_values(df):\n",
    "    \"\"\"retorne os valores que não são comuns em duas séries\n",
    "    \"\"\"\n",
    "    # YOUR CODE HERE\n",
    "    try:\n",
    "        dict_indColMaiorQtdPorLinha = df.apply(lambda x: np.argmax(x), axis=1)\n",
    "        freq = dict_indColMaiorQtdPorLinha.value_counts()\n",
    "        indc_colMaiorQtd = freq.keys()[0]\n",
    "        return df.iloc[:, indc_colMaiorQtd]\n",
    "    \n",
    "    except:\n",
    "        raise NotImplementedError('Erro na função')\n"
   ]
  },
  {
   "cell_type": "code",
   "execution_count": 66,
   "metadata": {},
   "outputs": [
    {
     "data": {
      "text/plain": [
       "0    33\n",
       "1    25\n",
       "2    48\n",
       "3    39\n",
       "4    49\n",
       "5    37\n",
       "6    45\n",
       "7    36\n",
       "8    37\n",
       "9    31\n",
       "Name: d2, dtype: int64"
      ]
     },
     "execution_count": 66,
     "metadata": {},
     "output_type": "execute_result"
    }
   ],
   "source": [
    "## Faça seus testes aqui\n",
    "data = {'d1': [20, 36, 25,  4,  1, 20, 17, 47,  2, 40],\n",
    "        'd2': [33, 25, 48, 39, 49, 37, 45, 36, 37, 31],\n",
    "        'd3': [19, 47,  9, 27, 48, 26, 24, 21,  1,  2]}\n",
    "df = pd.DataFrame(data)\n",
    "\n",
    "column_of_max_values(df)\n"
   ]
  },
  {
   "cell_type": "code",
   "execution_count": 67,
   "metadata": {
    "deletable": false,
    "editable": false,
    "nbgrader": {
     "cell_type": "code",
     "checksum": "31223999d9ea4a86ea66d649c0498f28",
     "grade": true,
     "grade_id": "cell-0e24b6cefe06bdc60",
     "locked": true,
     "points": 1,
     "schema_version": 3,
     "solution": false,
     "task": false
    }
   },
   "outputs": [],
   "source": [
    "# Validação para nota\n",
    "df = pd.DataFrame({'d1': [20, 36, 55, 1],\n",
    "                    'd2': [33, 25, 48, 12],\n",
    "                    'd3': [49, 47,  9, 3]})\n",
    "assert list(column_of_max_values(df)) == [49, 47,  9, 3]"
   ]
  },
  {
   "cell_type": "code",
   "execution_count": null,
   "metadata": {},
   "outputs": [],
   "source": []
  }
 ],
 "metadata": {
  "kernelspec": {
   "display_name": "Python 3",
   "language": "python",
   "name": "python3"
  },
  "language_info": {
   "codemirror_mode": {
    "name": "ipython",
    "version": 3
   },
   "file_extension": ".py",
   "mimetype": "text/x-python",
   "name": "python",
   "nbconvert_exporter": "python",
   "pygments_lexer": "ipython3",
   "version": "3.8.4"
  }
 },
 "nbformat": 4,
 "nbformat_minor": 4
}
