{
 "cells": [
  {
   "cell_type": "markdown",
   "metadata": {},
   "source": [
    "# Aula 3 - Exercícios - Pandas, Fontes de dados e Agregação\n",
    "### Consulta a internet (Google, Stackoverflow e etc) liberada!!"
   ]
  },
  {
   "cell_type": "code",
   "execution_count": 1,
   "metadata": {},
   "outputs": [
    {
     "name": "stdout",
     "output_type": "stream",
     "text": [
      "fatal: destination path '../../curso_ciencia_dados2020' already exists and is not an empty directory.\r\n"
     ]
    }
   ],
   "source": [
    "#Fazer o download dos datasets\n",
    "# Se já tiver feito o download, não precisa fazer novamente.\n",
    "# Se aparecer um erro dizendo que a pasta não está vazia é porque o download já foi feito\n",
    "!git clone https://github.com/alexlopespereira/curso_ciencia_dados2020.git ../../curso_ciencia_dados2020"
   ]
  },
  {
   "cell_type": "code",
   "execution_count": 7,
   "metadata": {},
   "outputs": [],
   "source": [
    "# Importe as bibliotecas pandas, numpy, glob e sqlalchemy\n",
    "import pandas as pd\n",
    "import numpy as np\n",
    "import sqlalchemy as sqla\n"
   ]
  },
  {
   "cell_type": "markdown",
   "metadata": {},
   "source": [
    "### 3.1 Carregue o arquivo do IDEB 2017 no formato de um DataFrame.  Crie uma função para calcular a média do IDEB de todos os municípios de um determinado Estado. \n",
    "#### Remova os registros cujo valor na coluna REDE sejam Municipal, Estadual ou Federal. Deixe somente os registros cujos valores na coluna REDE sejam Pública.\n"
   ]
  },
  {
   "cell_type": "code",
   "execution_count": 19,
   "metadata": {
    "deletable": false,
    "nbgrader": {
     "cell_type": "code",
     "checksum": "e1d661d4b00b8bcf77db5f284124b190",
     "grade": false,
     "grade_id": "cell-c705ab9d11473b9f9",
     "locked": false,
     "schema_version": 3,
     "solution": true,
     "task": false
    }
   },
   "outputs": [],
   "source": [
    "# Dica 1: Antes de calcular, substitua valores '-' por np.nan (NA) com o metodo replace.\n",
    "# Dica 2: Use a função loc para fazer o filtro de registros.\n",
    "# Dica 3: Dentre várias maneiras possíveis, uma maneira bastante concisa é usar o operador & (and) para\n",
    "# congregar dois critérios de filtro (seleção) de registros.\n",
    "def media_ideb(df, sigla_estado):\n",
    "    \"\"\"retorne o valor da media do IDEB contido na coluna col do Estado especificado por sigla_estado.\n",
    "    \"\"\"\n",
    "    # YOUR CODE HERE\n",
    "    try:\n",
    "        df.replace('-', np.nan, inplace=True)\n",
    "        return df[df['REDE'] == 'Pública'].loc[sigla_estado, 'IDEB12_17'].mean()\n",
    "    \n",
    "    except ValueError as e:\n",
    "        raise NotImplementedError(e)\n"
   ]
  },
  {
   "cell_type": "code",
   "execution_count": 20,
   "metadata": {},
   "outputs": [
    {
     "data": {
      "text/plain": [
       "3.4"
      ]
     },
     "execution_count": 20,
     "metadata": {},
     "output_type": "execute_result"
    }
   ],
   "source": [
    "## Faça seus testes aqui\n",
    "path_ideb='../../curso_ciencia_dados2020/data/originais/ideb/ideb_municipios2017.xlsx'\n",
    "df_ideb = pd.read_excel('../../curso_ciencia_dados2020/data/originais/ideb/ideb_municipios2017.xlsx', skiprows=9, skipfooter=3, index_col=0)\n",
    "df_ideb[df_ideb['REDE'] == 'Pública'].loc['DF', 'IDEB12_17']\n"
   ]
  },
  {
   "cell_type": "code",
   "execution_count": 21,
   "metadata": {
    "deletable": false,
    "editable": false,
    "nbgrader": {
     "cell_type": "code",
     "checksum": "f7791596abb9f985499d7b0adc8b80c6",
     "grade": true,
     "grade_id": "cell-9ffdsa88d58e9282a",
     "locked": true,
     "points": 1,
     "schema_version": 3,
     "solution": false,
     "task": false
    }
   },
   "outputs": [],
   "source": [
    "# Validação para nota\n",
    "assert media_ideb(df_ideb, 'DF') == 3.4\n",
    "assert round(media_ideb(df_ideb, 'SP'),2) == 4.04\n",
    "assert round(media_ideb(df_ideb, 'GO'),2) == 4.24"
   ]
  },
  {
   "cell_type": "markdown",
   "metadata": {},
   "source": [
    "### 3.2 Escreva uma função para salvar um DataFrame num banco de dados SQLite  "
   ]
  },
  {
   "cell_type": "code",
   "execution_count": 22,
   "metadata": {
    "deletable": false,
    "nbgrader": {
     "cell_type": "code",
     "checksum": "60682ca859af98cb2e20dc1960e3fdfc",
     "grade": false,
     "grade_id": "cell-553qe5248eb14bc30",
     "locked": false,
     "schema_version": 3,
     "solution": true,
     "task": false
    }
   },
   "outputs": [],
   "source": [
    "\n",
    "# Dica: A resolução deste exercício é bem semelhante ao código apresentado na Aula\n",
    "\n",
    "def save_to_sqlite(df, table_name, con_str):\n",
    "    \"\"\"salve o dataframe df num banco de dados sqlite especificado por db_path\n",
    "    \"\"\"\n",
    "    # YOUR CODE HERE\n",
    "    try:\n",
    "        #criando a conexão com o banco de dados\n",
    "        con = sqla.create_engine(con_str)\n",
    "        \n",
    "        return df.to_sql(table_name, con, if_exists='replace')\n",
    "        \n",
    "    except ValueError as e:\n",
    "        raise NotImplementedError('Erro ao tentar salvar no banco de dados.')\n"
   ]
  },
  {
   "cell_type": "code",
   "execution_count": 23,
   "metadata": {},
   "outputs": [],
   "source": [
    "## Faça seus testes aqui\n",
    "table_name = None # Escolha o nome da tabela\n",
    "path_idhm='../../curso_ciencia_dados2020/data/originais/idhm/idhm2013.xlsx'\n",
    "con_str='sqlite:////home/jovyan/work/curso_ciencia_dados2020/data/processados/idhm/idhm2013.sqlite'\n",
    "df_idhm = pd.read_excel(path_idhm, sheet_name=\"IDHM\")\n",
    "\n",
    "# Antes de salvar no banco de dados, defina o nome do índice como index. Conforme exemplo abaixo\n",
    "df_idhm.index.names = ['index']\n",
    "\n"
   ]
  },
  {
   "cell_type": "code",
   "execution_count": 24,
   "metadata": {},
   "outputs": [],
   "source": [
    "path_idhm='../../curso_ciencia_dados2020/data/originais/idhm/idhm2013.xlsx'\n",
    "con_str='sqlite:///../../curso_ciencia_dados2020/data/processados/idhm/idhm2013.sqlite'\n",
    "table_name='IDHM'\n",
    "df_idhm = pd.read_excel(path_idhm, sheet_name=\"IDHM\")\n",
    "\n",
    "df_idhm.index.names = ['index']\n",
    "save_to_sqlite(df_idhm, table_name, con_str) "
   ]
  },
  {
   "cell_type": "code",
   "execution_count": 25,
   "metadata": {
    "deletable": false,
    "editable": false,
    "nbgrader": {
     "cell_type": "code",
     "checksum": "a177b6f1457a7ca14dc3cce85668c9e1",
     "grade": true,
     "grade_id": "cell-0e2bh6cefe06bdc60",
     "locked": true,
     "points": 1,
     "schema_version": 3,
     "solution": false,
     "task": false
    }
   },
   "outputs": [],
   "source": [
    "# Validação para nota\n",
    "def load_table(table, con_str):\n",
    "    con = sqla.create_engine(con_str)\n",
    "    return pd.read_sql_query(\"SELECT * from {0}\".format(table), con, index_col='index')\n",
    "    \n",
    "path_idhm='../../curso_ciencia_dados2020/data/originais/idhm/idhm2013.xlsx'\n",
    "con_str='sqlite:////home/jovyan/work/curso_ciencia_dados2020/data/processados/idhm/idhm2013.sqlite'\n",
    "table_name='IDHM'\n",
    "df_idhm = pd.read_excel(path_idhm, sheet_name=\"IDHM\")\n",
    "\n",
    "df_idhm.index.names = ['index']\n",
    "save_to_sqlite(df_idhm, table_name, con_str) # Função que deve ser implementada pelo aluno\n",
    "idhm_from_db = load_table(table_name, con_str)\n",
    "\n",
    "assert idhm_from_db.equals(df_idhm)"
   ]
  },
  {
   "cell_type": "markdown",
   "metadata": {},
   "source": [
    "### 3.3 Escreva uma função executar uma query SQL de agregação num banco de dados SQLite que retorne a média dos valores de uma coluna VALORES agregados por uma coluna CATEGORIAS.\n",
    "#### Retorne a coluna CATEGORIA na tabela de resultados para identificar os valores. Ordene os resultados pelo valor da média em ordem decrescente.\n",
    "#### Exemplo: Calcule média do IDHM (coluna VALORES) agregado por Ano da pesquisa (CATEGORIAS)."
   ]
  },
  {
   "cell_type": "code",
   "execution_count": 26,
   "metadata": {
    "deletable": false,
    "nbgrader": {
     "cell_type": "code",
     "checksum": "91d40e9b68a338554169bfe82aa5da28",
     "grade": false,
     "grade_id": "cell-553e5248ebs14bc30",
     "locked": false,
     "schema_version": 3,
     "solution": true,
     "task": false
    }
   },
   "outputs": [],
   "source": [
    "# Dica: A resposta deste exercício é bem semelhante ao código mostrado na aula\n",
    "def soma_com_agregacao(val, cat, table, con_str):\n",
    "    \"\"\"retorne um dataframe contendo a soma dos valores em val dentro das categorias cat da tabela table\n",
    "    \"\"\"\n",
    "    # YOUR CODE HERE\n",
    "    try:\n",
    "        #criando a conexão com o banco de dados\n",
    "        con = sqla.create_engine(con_str)\n",
    "        df_sqlite_agg = pd.read_sql_query(\"SELECT {1}, AVG({0}) as Media FROM {2} \\\n",
    "                                            GROUP BY {1} ORDER BY media DESC\".format(val, cat, table), con)\n",
    "        return df_sqlite_agg\n",
    "    except:\n",
    "        raise NotImplementedError()\n"
   ]
  },
  {
   "cell_type": "code",
   "execution_count": 27,
   "metadata": {},
   "outputs": [
    {
     "data": {
      "text/html": [
       "<div>\n",
       "<style scoped>\n",
       "    .dataframe tbody tr th:only-of-type {\n",
       "        vertical-align: middle;\n",
       "    }\n",
       "\n",
       "    .dataframe tbody tr th {\n",
       "        vertical-align: top;\n",
       "    }\n",
       "\n",
       "    .dataframe thead th {\n",
       "        text-align: right;\n",
       "    }\n",
       "</style>\n",
       "<table border=\"1\" class=\"dataframe\">\n",
       "  <thead>\n",
       "    <tr style=\"text-align: right;\">\n",
       "      <th></th>\n",
       "      <th>ANO</th>\n",
       "      <th>Media</th>\n",
       "    </tr>\n",
       "  </thead>\n",
       "  <tbody>\n",
       "    <tr>\n",
       "      <th>0</th>\n",
       "      <td>2010</td>\n",
       "      <td>0.659157</td>\n",
       "    </tr>\n",
       "    <tr>\n",
       "      <th>1</th>\n",
       "      <td>2000</td>\n",
       "      <td>0.523481</td>\n",
       "    </tr>\n",
       "    <tr>\n",
       "      <th>2</th>\n",
       "      <td>1991</td>\n",
       "      <td>0.381372</td>\n",
       "    </tr>\n",
       "  </tbody>\n",
       "</table>\n",
       "</div>"
      ],
      "text/plain": [
       "    ANO     Media\n",
       "0  2010  0.659157\n",
       "1  2000  0.523481\n",
       "2  1991  0.381372"
      ]
     },
     "execution_count": 27,
     "metadata": {},
     "output_type": "execute_result"
    }
   ],
   "source": [
    "## Faça seus testes aqui\n",
    "\n",
    "soma_com_agregacao('IDHM', 'ANO', 'IDHM', con_str)"
   ]
  },
  {
   "cell_type": "code",
   "execution_count": 32,
   "metadata": {
    "deletable": false,
    "editable": false,
    "nbgrader": {
     "cell_type": "code",
     "checksum": "69d00c5e7181891119edf948e8e4f7a2",
     "grade": true,
     "grade_id": "cell-0e2bt6cefe06bdc60",
     "locked": true,
     "points": 1,
     "schema_version": 3,
     "solution": false,
     "task": false
    }
   },
   "outputs": [],
   "source": [
    "# Validação para nota\n",
    "con_str='sqlite:////home/jovyan/work/curso_ciencia_dados2020/data/processados/idhm/idhm2013.sqlite'\n",
    "idhm_anos = pd.DataFrame({'ANO': {0: 2010, 1: 2000, 2: 1991}, 'Media': {0: 0.6591574123989226, 1: 0.5234808625336926, 2: 0.38137232704402557}})\n",
    "assert soma_com_agregacao('IDHM', 'ANO', 'IDHM', con_str).equals(idhm_anos)"
   ]
  },
  {
   "cell_type": "markdown",
   "metadata": {},
   "source": [
    "### 3.4 Escreva uma função para fazer o merge dos dataframes de população e de PIB de 2017. A função deve receber como parâmetro o caminho para cada um dos dataframes."
   ]
  },
  {
   "cell_type": "code",
   "execution_count": 71,
   "metadata": {
    "deletable": false,
    "nbgrader": {
     "cell_type": "code",
     "checksum": "3a04c139c119cdec564fbd3e18136e1a",
     "grade": false,
     "grade_id": "cell-553em5248eb14bc30",
     "locked": false,
     "schema_version": 3,
     "solution": true,
     "task": false
    }
   },
   "outputs": [],
   "source": [
    "# Dica 1: A coluna que contem o código IBGE do município deve ter o mesmo formato (string) e a mesma\n",
    "#         quantidade de caracteres nas duas tabelas.\n",
    "# Dica 2: Converta o codigo do município para string ao carregar o dataframe de população utilizando\n",
    "#         o mapeamento de tipos dtype={'cod_munic': str, 'cod_uf': str}. Assim o codigo do municipio não perde\n",
    "#         os zeros a esquerda.\n",
    "# Dica 3: Concatene o codigo da UF com o código do município usando o operador + e salve em outra coluna.\n",
    "# Dica 4: Use o código apresentado na aula para carregar o dataframe do PIB de 2017, especifique o dtype da\n",
    "#         coluna que contém o codigo do municipio.\n",
    "# Dica 5: Renomeie as colunas apropriadamente.\n",
    "# Dica 6: Depois que os dois dataframes tiverem o codigo ibge (com valores equivalentes\n",
    "#         e mesmo tipo de dados) você pode fazer o merge.\n",
    "\n",
    "def merge_pop_pib(path_pop, path_pib):\n",
    "    \"\"\"retorne um dataframe resultante do merge dos dados do pib e da população\n",
    "    \"\"\"\n",
    "    # YOUR CODE HERE\n",
    "    try:\n",
    "        df_pib = pd.read_excel(path_pib, skiprows=3, skipfooter=1, index_col=0, dtype={'Unnamed: 1': str})\n",
    "        df_pib.rename(columns={'Unnamed: 1' : 'cod_ibge7', 'Unnamed: 2' : 'municipio'}, inplace=True)        \n",
    "        \n",
    "        df_pop = pd.read_excel(path_pop, dtype={'cod_uf': str, 'cod_munic': str})\n",
    "        df_pop['cod_ibge7'] = df_pop['cod_uf'] + df_pop['cod_munic']\n",
    "        \n",
    "        resultado = pd.merge(df_pop, df_pib, on='cod_ibge7')\n",
    "        resultado['municipio_y'] = resultado['municipio_y'].apply(lambda x: x[:-5])\n",
    "        return resultado\n",
    "        \n",
    "    except ValueError as e:        \n",
    "        raise NotImplementedError(e)\n"
   ]
  },
  {
   "cell_type": "code",
   "execution_count": 72,
   "metadata": {},
   "outputs": [
    {
     "data": {
      "text/html": [
       "<div>\n",
       "<style scoped>\n",
       "    .dataframe tbody tr th:only-of-type {\n",
       "        vertical-align: middle;\n",
       "    }\n",
       "\n",
       "    .dataframe tbody tr th {\n",
       "        vertical-align: top;\n",
       "    }\n",
       "\n",
       "    .dataframe thead th {\n",
       "        text-align: right;\n",
       "    }\n",
       "</style>\n",
       "<table border=\"1\" class=\"dataframe\">\n",
       "  <thead>\n",
       "    <tr style=\"text-align: right;\">\n",
       "      <th></th>\n",
       "      <th>Unnamed: 0</th>\n",
       "      <th>uf</th>\n",
       "      <th>cod_uf</th>\n",
       "      <th>cod_munic</th>\n",
       "      <th>municipio_x</th>\n",
       "      <th>pop2017</th>\n",
       "      <th>cod_ibge7</th>\n",
       "      <th>municipio_y</th>\n",
       "      <th>2007</th>\n",
       "      <th>2009</th>\n",
       "      <th>2011</th>\n",
       "      <th>2013</th>\n",
       "      <th>2015</th>\n",
       "      <th>2017</th>\n",
       "    </tr>\n",
       "  </thead>\n",
       "  <tbody>\n",
       "    <tr>\n",
       "      <th>0</th>\n",
       "      <td>0</td>\n",
       "      <td>RO</td>\n",
       "      <td>11</td>\n",
       "      <td>00015</td>\n",
       "      <td>Alta Floresta D'Oeste</td>\n",
       "      <td>25437</td>\n",
       "      <td>1100015</td>\n",
       "      <td>Alta Floresta D'Oeste</td>\n",
       "      <td>191364</td>\n",
       "      <td>256986</td>\n",
       "      <td>280510</td>\n",
       "      <td>341325</td>\n",
       "      <td>421300</td>\n",
       "      <td>498864</td>\n",
       "    </tr>\n",
       "    <tr>\n",
       "      <th>1</th>\n",
       "      <td>1</td>\n",
       "      <td>RO</td>\n",
       "      <td>11</td>\n",
       "      <td>00023</td>\n",
       "      <td>Ariquemes</td>\n",
       "      <td>107345</td>\n",
       "      <td>1100023</td>\n",
       "      <td>Ariquemes</td>\n",
       "      <td>905203</td>\n",
       "      <td>1133095</td>\n",
       "      <td>1651885</td>\n",
       "      <td>1799853</td>\n",
       "      <td>2037799</td>\n",
       "      <td>2296074</td>\n",
       "    </tr>\n",
       "    <tr>\n",
       "      <th>2</th>\n",
       "      <td>2</td>\n",
       "      <td>RO</td>\n",
       "      <td>11</td>\n",
       "      <td>00031</td>\n",
       "      <td>Cabixi</td>\n",
       "      <td>6224</td>\n",
       "      <td>1100031</td>\n",
       "      <td>Cabixi</td>\n",
       "      <td>49166</td>\n",
       "      <td>69776</td>\n",
       "      <td>77217</td>\n",
       "      <td>96365</td>\n",
       "      <td>116565</td>\n",
       "      <td>138894</td>\n",
       "    </tr>\n",
       "    <tr>\n",
       "      <th>3</th>\n",
       "      <td>3</td>\n",
       "      <td>RO</td>\n",
       "      <td>11</td>\n",
       "      <td>00049</td>\n",
       "      <td>Cacoal</td>\n",
       "      <td>88507</td>\n",
       "      <td>1100049</td>\n",
       "      <td>Cacoal</td>\n",
       "      <td>814890</td>\n",
       "      <td>985479</td>\n",
       "      <td>1259024</td>\n",
       "      <td>1433254</td>\n",
       "      <td>1794478</td>\n",
       "      <td>2127523</td>\n",
       "    </tr>\n",
       "    <tr>\n",
       "      <th>4</th>\n",
       "      <td>4</td>\n",
       "      <td>RO</td>\n",
       "      <td>11</td>\n",
       "      <td>00056</td>\n",
       "      <td>Cerejeiras</td>\n",
       "      <td>17934</td>\n",
       "      <td>1100056</td>\n",
       "      <td>Cerejeiras</td>\n",
       "      <td>143270</td>\n",
       "      <td>190902</td>\n",
       "      <td>260142</td>\n",
       "      <td>353270</td>\n",
       "      <td>397736</td>\n",
       "      <td>448524</td>\n",
       "    </tr>\n",
       "  </tbody>\n",
       "</table>\n",
       "</div>"
      ],
      "text/plain": [
       "   Unnamed: 0  uf cod_uf cod_munic            municipio_x  pop2017 cod_ibge7  \\\n",
       "0           0  RO     11     00015  Alta Floresta D'Oeste    25437   1100015   \n",
       "1           1  RO     11     00023              Ariquemes   107345   1100023   \n",
       "2           2  RO     11     00031                 Cabixi     6224   1100031   \n",
       "3           3  RO     11     00049                 Cacoal    88507   1100049   \n",
       "4           4  RO     11     00056             Cerejeiras    17934   1100056   \n",
       "\n",
       "             municipio_y    2007     2009     2011     2013     2015     2017  \n",
       "0  Alta Floresta D'Oeste  191364   256986   280510   341325   421300   498864  \n",
       "1              Ariquemes  905203  1133095  1651885  1799853  2037799  2296074  \n",
       "2                 Cabixi   49166    69776    77217    96365   116565   138894  \n",
       "3                 Cacoal  814890   985479  1259024  1433254  1794478  2127523  \n",
       "4             Cerejeiras  143270   190902   260142   353270   397736   448524  "
      ]
     },
     "execution_count": 72,
     "metadata": {},
     "output_type": "execute_result"
    }
   ],
   "source": [
    "## Faça seus testes aqui\n",
    "path_pib = '../../curso_ciencia_dados2020/data/originais/pib/pib_municipios.xlsx'\n",
    "path_pop='../../curso_ciencia_dados2020/data/originais/populacao/estimativa_dou_2017.xlsx'\n",
    "\n",
    "df_pib_pop = merge_pop_pib(path_pop, path_pib)\n",
    "df_pib_pop.head()"
   ]
  },
  {
   "cell_type": "code",
   "execution_count": 73,
   "metadata": {
    "deletable": false,
    "editable": false,
    "nbgrader": {
     "cell_type": "code",
     "checksum": "652764c10148f3f252cb0c3ac9497d0b",
     "grade": true,
     "grade_id": "cell-0se2b6cefe06bdc60",
     "locked": true,
     "points": 1,
     "schema_version": 3,
     "solution": false,
     "task": false
    }
   },
   "outputs": [],
   "source": [
    "# Validação para nota\n",
    "test_merge = {'pop2017': 25437, '2017': 498864}\n",
    "df_pib_pop = merge_pop_pib(path_pop, path_pib)\n",
    "assert df_pib_pop.loc[0,['pop2017', '2017']].to_dict() == test_merge "
   ]
  },
  {
   "cell_type": "markdown",
   "metadata": {},
   "source": [
    "### 3.5 Escreva uma função para calcular o PIB percapita de cada município do Brasil, considerando o dataframe do exercício anterior."
   ]
  },
  {
   "cell_type": "code",
   "execution_count": 74,
   "metadata": {
    "deletable": false,
    "nbgrader": {
     "cell_type": "code",
     "checksum": "00935e8498a1a0e853dc0df92890e0f9",
     "grade": false,
     "grade_id": "cell-553e524r8eb14bc30",
     "locked": false,
     "schema_version": 3,
     "solution": true,
     "task": false
    }
   },
   "outputs": [],
   "source": [
    "# Dica 1\n",
    "def pib_percapita(pib_pop):\n",
    "    \"\"\"retorne retorne um dataframe contendo o codigo ibge de 7 caracteres,\n",
    "       o nome do municipio e seu PIB percapita.\n",
    "    \"\"\"\n",
    "    # YOUR CODE HERE\n",
    "    try:\n",
    "        pib_pop['pib_percapita'] = pib_pop['2017'] / pib_pop['pop2017']\n",
    "\n",
    "        return pib_pop\n",
    "        \n",
    "    except ValueError as e:        \n",
    "        raise NotImplementedError(e)\n"
   ]
  },
  {
   "cell_type": "code",
   "execution_count": 75,
   "metadata": {},
   "outputs": [
    {
     "data": {
      "text/html": [
       "<div>\n",
       "<style scoped>\n",
       "    .dataframe tbody tr th:only-of-type {\n",
       "        vertical-align: middle;\n",
       "    }\n",
       "\n",
       "    .dataframe tbody tr th {\n",
       "        vertical-align: top;\n",
       "    }\n",
       "\n",
       "    .dataframe thead th {\n",
       "        text-align: right;\n",
       "    }\n",
       "</style>\n",
       "<table border=\"1\" class=\"dataframe\">\n",
       "  <thead>\n",
       "    <tr style=\"text-align: right;\">\n",
       "      <th></th>\n",
       "      <th>Unnamed: 0</th>\n",
       "      <th>uf</th>\n",
       "      <th>cod_uf</th>\n",
       "      <th>cod_munic</th>\n",
       "      <th>municipio_x</th>\n",
       "      <th>pop2017</th>\n",
       "      <th>cod_ibge7</th>\n",
       "      <th>municipio_y</th>\n",
       "      <th>2007</th>\n",
       "      <th>2009</th>\n",
       "      <th>2011</th>\n",
       "      <th>2013</th>\n",
       "      <th>2015</th>\n",
       "      <th>2017</th>\n",
       "      <th>pib_percapita</th>\n",
       "    </tr>\n",
       "  </thead>\n",
       "  <tbody>\n",
       "    <tr>\n",
       "      <th>0</th>\n",
       "      <td>0</td>\n",
       "      <td>RO</td>\n",
       "      <td>11</td>\n",
       "      <td>00015</td>\n",
       "      <td>Alta Floresta D'Oeste</td>\n",
       "      <td>25437</td>\n",
       "      <td>1100015</td>\n",
       "      <td>Alta Floresta D'Oeste</td>\n",
       "      <td>191364</td>\n",
       "      <td>256986</td>\n",
       "      <td>280510</td>\n",
       "      <td>341325</td>\n",
       "      <td>421300</td>\n",
       "      <td>498864</td>\n",
       "      <td>19.611747</td>\n",
       "    </tr>\n",
       "    <tr>\n",
       "      <th>1</th>\n",
       "      <td>1</td>\n",
       "      <td>RO</td>\n",
       "      <td>11</td>\n",
       "      <td>00023</td>\n",
       "      <td>Ariquemes</td>\n",
       "      <td>107345</td>\n",
       "      <td>1100023</td>\n",
       "      <td>Ariquemes</td>\n",
       "      <td>905203</td>\n",
       "      <td>1133095</td>\n",
       "      <td>1651885</td>\n",
       "      <td>1799853</td>\n",
       "      <td>2037799</td>\n",
       "      <td>2296074</td>\n",
       "      <td>21.389669</td>\n",
       "    </tr>\n",
       "    <tr>\n",
       "      <th>2</th>\n",
       "      <td>2</td>\n",
       "      <td>RO</td>\n",
       "      <td>11</td>\n",
       "      <td>00031</td>\n",
       "      <td>Cabixi</td>\n",
       "      <td>6224</td>\n",
       "      <td>1100031</td>\n",
       "      <td>Cabixi</td>\n",
       "      <td>49166</td>\n",
       "      <td>69776</td>\n",
       "      <td>77217</td>\n",
       "      <td>96365</td>\n",
       "      <td>116565</td>\n",
       "      <td>138894</td>\n",
       "      <td>22.315874</td>\n",
       "    </tr>\n",
       "    <tr>\n",
       "      <th>3</th>\n",
       "      <td>3</td>\n",
       "      <td>RO</td>\n",
       "      <td>11</td>\n",
       "      <td>00049</td>\n",
       "      <td>Cacoal</td>\n",
       "      <td>88507</td>\n",
       "      <td>1100049</td>\n",
       "      <td>Cacoal</td>\n",
       "      <td>814890</td>\n",
       "      <td>985479</td>\n",
       "      <td>1259024</td>\n",
       "      <td>1433254</td>\n",
       "      <td>1794478</td>\n",
       "      <td>2127523</td>\n",
       "      <td>24.037907</td>\n",
       "    </tr>\n",
       "    <tr>\n",
       "      <th>4</th>\n",
       "      <td>4</td>\n",
       "      <td>RO</td>\n",
       "      <td>11</td>\n",
       "      <td>00056</td>\n",
       "      <td>Cerejeiras</td>\n",
       "      <td>17934</td>\n",
       "      <td>1100056</td>\n",
       "      <td>Cerejeiras</td>\n",
       "      <td>143270</td>\n",
       "      <td>190902</td>\n",
       "      <td>260142</td>\n",
       "      <td>353270</td>\n",
       "      <td>397736</td>\n",
       "      <td>448524</td>\n",
       "      <td>25.009702</td>\n",
       "    </tr>\n",
       "    <tr>\n",
       "      <th>...</th>\n",
       "      <td>...</td>\n",
       "      <td>...</td>\n",
       "      <td>...</td>\n",
       "      <td>...</td>\n",
       "      <td>...</td>\n",
       "      <td>...</td>\n",
       "      <td>...</td>\n",
       "      <td>...</td>\n",
       "      <td>...</td>\n",
       "      <td>...</td>\n",
       "      <td>...</td>\n",
       "      <td>...</td>\n",
       "      <td>...</td>\n",
       "      <td>...</td>\n",
       "      <td>...</td>\n",
       "    </tr>\n",
       "    <tr>\n",
       "      <th>5565</th>\n",
       "      <td>5565</td>\n",
       "      <td>GO</td>\n",
       "      <td>52</td>\n",
       "      <td>22005</td>\n",
       "      <td>Vianópolis</td>\n",
       "      <td>13675</td>\n",
       "      <td>5222005</td>\n",
       "      <td>Vianópolis</td>\n",
       "      <td>122694</td>\n",
       "      <td>164336</td>\n",
       "      <td>223144</td>\n",
       "      <td>291919</td>\n",
       "      <td>312348</td>\n",
       "      <td>395787</td>\n",
       "      <td>28.942377</td>\n",
       "    </tr>\n",
       "    <tr>\n",
       "      <th>5566</th>\n",
       "      <td>5566</td>\n",
       "      <td>GO</td>\n",
       "      <td>52</td>\n",
       "      <td>22054</td>\n",
       "      <td>Vicentinópolis</td>\n",
       "      <td>8397</td>\n",
       "      <td>5222054</td>\n",
       "      <td>Vicentinópolis</td>\n",
       "      <td>87881</td>\n",
       "      <td>133430</td>\n",
       "      <td>149230</td>\n",
       "      <td>259422</td>\n",
       "      <td>322298</td>\n",
       "      <td>350765</td>\n",
       "      <td>41.772657</td>\n",
       "    </tr>\n",
       "    <tr>\n",
       "      <th>5567</th>\n",
       "      <td>5567</td>\n",
       "      <td>GO</td>\n",
       "      <td>52</td>\n",
       "      <td>22203</td>\n",
       "      <td>Vila Boa</td>\n",
       "      <td>5731</td>\n",
       "      <td>5222203</td>\n",
       "      <td>Vila Boa</td>\n",
       "      <td>31897</td>\n",
       "      <td>73367</td>\n",
       "      <td>84103</td>\n",
       "      <td>103233</td>\n",
       "      <td>111229</td>\n",
       "      <td>137500</td>\n",
       "      <td>23.992322</td>\n",
       "    </tr>\n",
       "    <tr>\n",
       "      <th>5568</th>\n",
       "      <td>5568</td>\n",
       "      <td>GO</td>\n",
       "      <td>52</td>\n",
       "      <td>22302</td>\n",
       "      <td>Vila Propício</td>\n",
       "      <td>5690</td>\n",
       "      <td>5222302</td>\n",
       "      <td>Vila Propício</td>\n",
       "      <td>76868</td>\n",
       "      <td>107125</td>\n",
       "      <td>112821</td>\n",
       "      <td>142970</td>\n",
       "      <td>198935</td>\n",
       "      <td>182175</td>\n",
       "      <td>32.016696</td>\n",
       "    </tr>\n",
       "    <tr>\n",
       "      <th>5569</th>\n",
       "      <td>5569</td>\n",
       "      <td>DF</td>\n",
       "      <td>53</td>\n",
       "      <td>00108</td>\n",
       "      <td>Brasília</td>\n",
       "      <td>3039444</td>\n",
       "      <td>5300108</td>\n",
       "      <td>Brasília</td>\n",
       "      <td>93404001</td>\n",
       "      <td>124323753</td>\n",
       "      <td>154568954</td>\n",
       "      <td>175906726</td>\n",
       "      <td>215612863</td>\n",
       "      <td>244682756</td>\n",
       "      <td>80.502472</td>\n",
       "    </tr>\n",
       "  </tbody>\n",
       "</table>\n",
       "<p>5570 rows × 15 columns</p>\n",
       "</div>"
      ],
      "text/plain": [
       "      Unnamed: 0  uf cod_uf cod_munic            municipio_x  pop2017  \\\n",
       "0              0  RO     11     00015  Alta Floresta D'Oeste    25437   \n",
       "1              1  RO     11     00023              Ariquemes   107345   \n",
       "2              2  RO     11     00031                 Cabixi     6224   \n",
       "3              3  RO     11     00049                 Cacoal    88507   \n",
       "4              4  RO     11     00056             Cerejeiras    17934   \n",
       "...          ...  ..    ...       ...                    ...      ...   \n",
       "5565        5565  GO     52     22005             Vianópolis    13675   \n",
       "5566        5566  GO     52     22054         Vicentinópolis     8397   \n",
       "5567        5567  GO     52     22203               Vila Boa     5731   \n",
       "5568        5568  GO     52     22302          Vila Propício     5690   \n",
       "5569        5569  DF     53     00108               Brasília  3039444   \n",
       "\n",
       "     cod_ibge7            municipio_y      2007       2009       2011  \\\n",
       "0      1100015  Alta Floresta D'Oeste    191364     256986     280510   \n",
       "1      1100023              Ariquemes    905203    1133095    1651885   \n",
       "2      1100031                 Cabixi     49166      69776      77217   \n",
       "3      1100049                 Cacoal    814890     985479    1259024   \n",
       "4      1100056             Cerejeiras    143270     190902     260142   \n",
       "...        ...                    ...       ...        ...        ...   \n",
       "5565   5222005             Vianópolis    122694     164336     223144   \n",
       "5566   5222054         Vicentinópolis     87881     133430     149230   \n",
       "5567   5222203               Vila Boa     31897      73367      84103   \n",
       "5568   5222302          Vila Propício     76868     107125     112821   \n",
       "5569   5300108               Brasília  93404001  124323753  154568954   \n",
       "\n",
       "           2013       2015       2017  pib_percapita  \n",
       "0        341325     421300     498864      19.611747  \n",
       "1       1799853    2037799    2296074      21.389669  \n",
       "2         96365     116565     138894      22.315874  \n",
       "3       1433254    1794478    2127523      24.037907  \n",
       "4        353270     397736     448524      25.009702  \n",
       "...         ...        ...        ...            ...  \n",
       "5565     291919     312348     395787      28.942377  \n",
       "5566     259422     322298     350765      41.772657  \n",
       "5567     103233     111229     137500      23.992322  \n",
       "5568     142970     198935     182175      32.016696  \n",
       "5569  175906726  215612863  244682756      80.502472  \n",
       "\n",
       "[5570 rows x 15 columns]"
      ]
     },
     "execution_count": 75,
     "metadata": {},
     "output_type": "execute_result"
    }
   ],
   "source": [
    "## Faça seus testes aqui\n",
    "\n",
    "pib_percapita(df_pib_pop)"
   ]
  },
  {
   "cell_type": "code",
   "execution_count": 76,
   "metadata": {
    "deletable": false,
    "editable": false,
    "nbgrader": {
     "cell_type": "code",
     "checksum": "cfaffe71c5575199d867ad9e120c2da7",
     "grade": true,
     "grade_id": "cell-0e2hb6cefe06bdc60",
     "locked": true,
     "points": 1,
     "schema_version": 3,
     "solution": false,
     "task": false
    }
   },
   "outputs": [],
   "source": [
    "# Validação para nota\n",
    "pib_percapita_2017 = pib_percapita(df_pib_pop)\n",
    "assert round(pib_percapita(df_pib_pop).loc[0,'pib_percapita'],2) == 19.61"
   ]
  },
  {
   "cell_type": "markdown",
   "metadata": {},
   "source": [
    "### 3.6 Escreva uma função para retornar os registros dos 10 maiores PIBs percapita do brasil a partir do dataframe do exercício anterior. \n",
    "#### Escreva uma função genérica que receba como parâmetro um dataframe e o nome da coluna de ordenação\n"
   ]
  },
  {
   "cell_type": "code",
   "execution_count": 77,
   "metadata": {
    "deletable": false,
    "nbgrader": {
     "cell_type": "code",
     "checksum": "d87a1732e583e9319f37c3cbc3a4214f",
     "grade": false,
     "grade_id": "cell-553e5s248eb14bc30",
     "locked": false,
     "schema_version": 3,
     "solution": true,
     "task": false
    }
   },
   "outputs": [],
   "source": [
    "# Dica 1: Use o método sort_values para ordenar o dataframe. Para uma ordenação descendente use ascending=False.\n",
    "# Dica 2: Use o atributo iloc para retornar todas as colunas dos 10 primeiros registros.\n",
    "def top10(df, col):\n",
    "    \"\"\"retorne os top 10 registros do dataframe df ordenados por col\n",
    "    \"\"\"\n",
    "    # YOUR CODE HERE\n",
    "    try:\n",
    "        df_topten = pd.DataFrame(df.sort_values(col, ascending=False).iloc[:10])\n",
    "        \n",
    "        # esse trecho foi necessario por conta do assert\n",
    "        df_topten.rename(columns={'municipio_x' : 'municipio'}, inplace=True)\n",
    "        list_col_assert = ['cod_ibge7', 'municipio', 'uf', 'pib_percapita']\n",
    "        \n",
    "        return df_topten[list_col_assert]\n",
    "    except ValueError as e:\n",
    "        raise NotImplementedError(e)\n"
   ]
  },
  {
   "cell_type": "code",
   "execution_count": 78,
   "metadata": {},
   "outputs": [
    {
     "data": {
      "text/html": [
       "<div>\n",
       "<style scoped>\n",
       "    .dataframe tbody tr th:only-of-type {\n",
       "        vertical-align: middle;\n",
       "    }\n",
       "\n",
       "    .dataframe tbody tr th {\n",
       "        vertical-align: top;\n",
       "    }\n",
       "\n",
       "    .dataframe thead th {\n",
       "        text-align: right;\n",
       "    }\n",
       "</style>\n",
       "<table border=\"1\" class=\"dataframe\">\n",
       "  <thead>\n",
       "    <tr style=\"text-align: right;\">\n",
       "      <th></th>\n",
       "      <th>cod_ibge7</th>\n",
       "      <th>municipio</th>\n",
       "      <th>uf</th>\n",
       "      <th>pib_percapita</th>\n",
       "    </tr>\n",
       "  </thead>\n",
       "  <tbody>\n",
       "    <tr>\n",
       "      <th>3677</th>\n",
       "      <td>3536505</td>\n",
       "      <td>Paulínia</td>\n",
       "      <td>SP</td>\n",
       "      <td>344.847169</td>\n",
       "    </tr>\n",
       "    <tr>\n",
       "      <th>5068</th>\n",
       "      <td>4322004</td>\n",
       "      <td>Triunfo</td>\n",
       "      <td>RS</td>\n",
       "      <td>311.211920</td>\n",
       "    </tr>\n",
       "    <tr>\n",
       "      <th>3575</th>\n",
       "      <td>3527306</td>\n",
       "      <td>Louveira</td>\n",
       "      <td>SP</td>\n",
       "      <td>300.639389</td>\n",
       "    </tr>\n",
       "    <tr>\n",
       "      <th>3155</th>\n",
       "      <td>3204302</td>\n",
       "      <td>Presidente Kennedy</td>\n",
       "      <td>ES</td>\n",
       "      <td>292.397121</td>\n",
       "    </tr>\n",
       "    <tr>\n",
       "      <th>2965</th>\n",
       "      <td>3161908</td>\n",
       "      <td>São Gonçalo do Rio Abaixo</td>\n",
       "      <td>MG</td>\n",
       "      <td>289.925462</td>\n",
       "    </tr>\n",
       "    <tr>\n",
       "      <th>5174</th>\n",
       "      <td>5007802</td>\n",
       "      <td>Selvíria</td>\n",
       "      <td>MS</td>\n",
       "      <td>271.094724</td>\n",
       "    </tr>\n",
       "    <tr>\n",
       "      <th>2183</th>\n",
       "      <td>2929206</td>\n",
       "      <td>São Francisco do Conde</td>\n",
       "      <td>BA</td>\n",
       "      <td>253.895574</td>\n",
       "    </tr>\n",
       "    <tr>\n",
       "      <th>2523</th>\n",
       "      <td>3125101</td>\n",
       "      <td>Extrema</td>\n",
       "      <td>MG</td>\n",
       "      <td>219.239081</td>\n",
       "    </tr>\n",
       "    <tr>\n",
       "      <th>293</th>\n",
       "      <td>1508357</td>\n",
       "      <td>Vitória do Xingu</td>\n",
       "      <td>PA</td>\n",
       "      <td>209.799918</td>\n",
       "    </tr>\n",
       "    <tr>\n",
       "      <th>3547</th>\n",
       "      <td>3524709</td>\n",
       "      <td>Jaguariúna</td>\n",
       "      <td>SP</td>\n",
       "      <td>209.320862</td>\n",
       "    </tr>\n",
       "  </tbody>\n",
       "</table>\n",
       "</div>"
      ],
      "text/plain": [
       "     cod_ibge7                  municipio  uf  pib_percapita\n",
       "3677   3536505                   Paulínia  SP     344.847169\n",
       "5068   4322004                    Triunfo  RS     311.211920\n",
       "3575   3527306                   Louveira  SP     300.639389\n",
       "3155   3204302         Presidente Kennedy  ES     292.397121\n",
       "2965   3161908  São Gonçalo do Rio Abaixo  MG     289.925462\n",
       "5174   5007802                   Selvíria  MS     271.094724\n",
       "2183   2929206     São Francisco do Conde  BA     253.895574\n",
       "2523   3125101                    Extrema  MG     219.239081\n",
       "293    1508357           Vitória do Xingu  PA     209.799918\n",
       "3547   3524709                 Jaguariúna  SP     209.320862"
      ]
     },
     "execution_count": 78,
     "metadata": {},
     "output_type": "execute_result"
    }
   ],
   "source": [
    "## Faça seus testes aqui\n",
    "top10(pib_percapita_2017, 'pib_percapita')"
   ]
  },
  {
   "cell_type": "code",
   "execution_count": 79,
   "metadata": {
    "deletable": false,
    "editable": false,
    "nbgrader": {
     "cell_type": "code",
     "checksum": "100367f9633b7605519cc981307fcda7",
     "grade": true,
     "grade_id": "cell-0e2b6cefe06hbdc60",
     "locked": true,
     "points": 1,
     "schema_version": 3,
     "solution": false,
     "task": false
    }
   },
   "outputs": [],
   "source": [
    "# Validação para nota\n",
    "test_data = {'cod_ibge7': {3677: '3536505', 3547: '3524709'},\n",
    "             'municipio': {3677: 'Paulínia', 3547: 'Jaguariúna'},\n",
    "             'uf': {3677: 'SP', 3547: 'SP'},\n",
    "             'pib_percapita': {3677: 344.8471692406755, 3547: 209.32086192900894}}\n",
    "\n",
    "assert top10(pib_percapita_2017, 'pib_percapita').iloc[[0,9]].to_dict() == test_data "
   ]
  },
  {
   "cell_type": "markdown",
   "metadata": {},
   "source": [
    "### 3.7 Escreva uma função para contar quantos nomes de municípios são diferentes nas bases de dados do PIB e da população. \n",
    "#### A coluna do nome dos municípios no dataset de PIB contém também o nome da UF. Remova o nome da UF, por exemplo, removendo os 5 ultimos caracteres da string do nome do município, antes de efetuar a comparação."
   ]
  },
  {
   "cell_type": "code",
   "execution_count": 80,
   "metadata": {
    "deletable": false,
    "nbgrader": {
     "cell_type": "code",
     "checksum": "aa493e635529cec13dccb7a5a35d84b6",
     "grade": false,
     "grade_id": "cell-553e5248eb1t4bc30",
     "locked": false,
     "schema_version": 3,
     "solution": true,
     "task": false
    }
   },
   "outputs": [],
   "source": [
    "def compare_df_cols(df, col1, col2):\n",
    "    \"\"\"retorne a quantidade de registros em que o valor do registro na coluna col1 difere do valor em col2\n",
    "    \"\"\"\n",
    "    # YOUR CODE HERE\n",
    "    try:\n",
    "        return len( df[df[col1] != df[col2]] )\n",
    "        \n",
    "    except ValueError as e:\n",
    "        raise NotImplementedError(e)\n"
   ]
  },
  {
   "cell_type": "code",
   "execution_count": 82,
   "metadata": {},
   "outputs": [
    {
     "data": {
      "text/plain": [
       "16"
      ]
     },
     "execution_count": 82,
     "metadata": {},
     "output_type": "execute_result"
    }
   ],
   "source": [
    "## Faça seus testes aqui\n",
    "# df_pib_pop.head()\n",
    "compare_df_cols(df_pib_pop, 'municipio_x', 'municipio_y')\n"
   ]
  },
  {
   "cell_type": "code",
   "execution_count": 83,
   "metadata": {
    "deletable": false,
    "editable": false,
    "nbgrader": {
     "cell_type": "code",
     "checksum": "6a9378c3d90cb52ae63a164f34efb556",
     "grade": true,
     "grade_id": "cell-0e2b6cefet06bdc60",
     "locked": true,
     "points": 1,
     "schema_version": 3,
     "solution": false,
     "task": false
    }
   },
   "outputs": [],
   "source": [
    "# Validação para nota\n",
    "path_pib = '../../curso_ciencia_dados2020/data/originais/pib/pib_municipios.xlsx'\n",
    "path_pop='../../curso_ciencia_dados2020/data/originais/populacao/estimativa_dou_2017.xlsx'\n",
    "df_pib_pop = merge_pop_pib(path_pop, path_pib)\n",
    "assert compare_df_cols(df_pib_pop, 'municipio_x', 'municipio_y') == 16"
   ]
  },
  {
   "cell_type": "markdown",
   "metadata": {},
   "source": [
    "### 3.8 Considere algumas linhas de uma base de dados de morbidade apresentadas a seguir. Perceba que há dados de vários meses de 2020 para cada Estado da Federação.\n",
    "#### Escreva uma função para pivotar esta base de dados apresentando os meses do ano nas colunas, os municípios nas linhas e a quantidade de óbitos como valores das células. \n",
    "\n",
    "|       | Município               |   cod_ibge6 | mes   |   ano | mes_ano    | Óbitos   |\n",
    "|------:|:------------------------|------------:|:------|------:|:-----------|:---------|\n",
    "|     0 | Alta Floresta D'Oeste   |      110001 | Abr   |  2020 | 2020-04-01 | 8        |\n",
    "|     1 | Alto Alegre dos Parecis |      110037 | Abr   |  2020 | 2020-04-01 | 1        |\n",
    "|     2 | Alto Paraíso            |      110040 | Abr   |  2020 | 2020-04-01 | 2        |\n",
    "| 33347 | Vila Boa                |      522220 | Jan   |  2020 | 2020-01-01 | -        |\n",
    "| 33348 | Vila Propício           |      522230 | Jan   |  2020 | 2020-01-01 | -        |\n",
    "| 33349 | Brasília                |      530010 | Jan   |  2020 | 2020-01-01 | 578      |"
   ]
  },
  {
   "cell_type": "code",
   "execution_count": 84,
   "metadata": {
    "deletable": false,
    "nbgrader": {
     "cell_type": "code",
     "checksum": "f003078e6d15dd8368a79cc17130932a",
     "grade": false,
     "grade_id": "cell-553e52r48eb14bc30",
     "locked": false,
     "schema_version": 3,
     "solution": true,
     "task": false
    }
   },
   "outputs": [],
   "source": [
    "# Dica 1: Sempre dê preferência para fazer agregação usando códigos como identificador, \n",
    "#         use nomes em ultimo caso quando não houver códigos identificadores. \n",
    "# Dica 2: Se você usar o atributo 'mes_ano' o pandas já ordena de forma cronológica as colunas.\n",
    "def pivot_morbidade(file_path):\n",
    "    \"\"\"retorne um dataframe pivotado\n",
    "    \"\"\"\n",
    "    # YOUR CODE HERE\n",
    "    try:\n",
    "        df_morbidade = pd.read_csv(file_path, sep=';')\n",
    "\n",
    "        return df_morbidade.pivot(index=['cod_ibge6', 'Município'], columns='mes_ano', values='Óbitos')\n",
    "            \n",
    "    except ValueError as e:\n",
    "        raise NotImplementedError(e)"
   ]
  },
  {
   "cell_type": "code",
   "execution_count": 85,
   "metadata": {},
   "outputs": [
    {
     "data": {
      "text/plain": [
       "mes_ano\n",
       "2020-01-01    5\n",
       "2020-02-01    2\n",
       "2020-03-01    3\n",
       "2020-04-01    8\n",
       "2020-05-01    2\n",
       "2020-06-01    2\n",
       "Name: (110001, Alta Floresta D'Oeste), dtype: object"
      ]
     },
     "execution_count": 85,
     "metadata": {},
     "output_type": "execute_result"
    }
   ],
   "source": [
    "## Faça seus testes aqui\n",
    "file_path = '../../curso_ciencia_dados2020/data/originais/morbidade/consolidado/morbidade_simplificado.csv'\n",
    "pivot_morbidade(file_path).iloc[0]\n"
   ]
  },
  {
   "cell_type": "code",
   "execution_count": 86,
   "metadata": {
    "deletable": false,
    "editable": false,
    "nbgrader": {
     "cell_type": "code",
     "checksum": "047d5c23238fcbf6d01f97b442a0f078",
     "grade": true,
     "grade_id": "cell-0e2b6tcefe06bdc60",
     "locked": true,
     "points": 1,
     "schema_version": 3,
     "solution": false,
     "task": false
    }
   },
   "outputs": [],
   "source": [
    "# Validação para nota\n",
    "file_path = '../../curso_ciencia_dados2020/data/originais/morbidade/consolidado/morbidade_simplificado.csv'\n",
    "test_data = {'2020-01-01': '5', '2020-02-01': '2', '2020-03-01': '3', '2020-04-01': '8', '2020-05-01': '2', \n",
    "             '2020-06-01': '2'}\n",
    "assert pivot_morbidade(file_path).iloc[0].to_dict() == test_data\n"
   ]
  },
  {
   "cell_type": "code",
   "execution_count": null,
   "metadata": {},
   "outputs": [],
   "source": []
  }
 ],
 "metadata": {
  "kernelspec": {
   "display_name": "Python 3",
   "language": "python",
   "name": "python3"
  },
  "language_info": {
   "codemirror_mode": {
    "name": "ipython",
    "version": 3
   },
   "file_extension": ".py",
   "mimetype": "text/x-python",
   "name": "python",
   "nbconvert_exporter": "python",
   "pygments_lexer": "ipython3",
   "version": "3.8.4"
  }
 },
 "nbformat": 4,
 "nbformat_minor": 4
}
